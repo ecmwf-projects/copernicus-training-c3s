{
 "cells": [
  {
   "cell_type": "markdown",
   "metadata": {},
   "source": [
    "![logo](./img/LogoLine_horizon_C3S.png)"
   ]
  },
  {
   "cell_type": "markdown",
   "metadata": {},
   "source": [
    "<br>"
   ]
  },
  {
   "cell_type": "markdown",
   "metadata": {},
   "source": [
    "# Plot an Ensemble of CMIP6 Climate Projections"
   ]
  },
  {
   "cell_type": "markdown",
   "metadata": {
    "tags": []
   },
   "source": [
    "### About"
   ]
  },
  {
   "cell_type": "markdown",
   "metadata": {},
   "source": [
    "This notebook provides a practical introduction on how to access and process [CMIP6 global climate projections](https://cds.climate.copernicus.eu/cdsapp#!/dataset/projections-cmip6?tab=overview) data available in the Climate Data Store (CDS) of the Copernicus Climate Change Service (C3S). The workflow shows how to compute and visualize the output of an ensemble of models for the annual global average temperature between 1850 to 2100. You will use the `historical` experiment for the temporal period 1850 to 2014 and the three scenarios `SSP1-2.6`, `SSP2-4.5` and `SSP5-8.5` for the period from 2015 to 2100.\n",
    "\n",
    "For the sake of simplicity, and to facilitate data download, the tutorial will make use of some of the coarser resolution models that have a smaller data size. It is nevertheless only a choice for this exercise and not a recommendation (since ideally all models, including those with highest resolution, should be used). Many more models are available on the CDS, and when calculating an ensemble of models, it is best practice to use as many as possible for a more reliable output. See [here](https://confluence.ecmwf.int/display/CKB/CMIP6%3A+Global+climate+projections#CMIP6:Globalclimateprojections-Models,gridsandpressurelevels) a full list of models included in the CDS-CMIP6 dataset.\n",
    "\n",
    "Learn [here](https://confluence.ecmwf.int/display/CKB/CMIP6%3A+Global+climate+projections#CMIP6:Globalclimateprojections) more about CMIP6 global climate projections and the CMIP6 experiments in the CDS."
   ]
  },
  {
   "cell_type": "markdown",
   "metadata": {},
   "source": [
    "\n",
    "The notebook has the following outline:\n",
    "\n",
    "1. Request data from the CDS programmatically with the CDS API\n",
    "2. Unzip the downloaded data files\n",
    "3. Load and prepare CMIP6 data for one model and one experiment\n",
    "4. Load and prepare CMIP6 data for all models and experiments\n",
    "5. Visualize CMIP6 annual global average temperature between 1850 to 2100"
   ]
  },
  {
   "cell_type": "markdown",
   "metadata": {
    "tags": []
   },
   "source": [
    "### Data"
   ]
  },
  {
   "cell_type": "markdown",
   "metadata": {},
   "source": [
    "This notebook introduces you to [CMIP6 Global climate projections](https://cds.climate.copernicus.eu/cdsapp#!/dataset/projections-cmip6?tab=overview). The datasets used in the notebook have the following specifications:\n",
    "\n",
    "> **Data**: CMIP6 global climate projections of near-surface air temperature <br>\n",
    "> **Experiments**: Historical, SSP1-2.6, SSP2-4.5, SSP5-8.5 <br>\n",
    "> **Models**: 7 models from Germany, France, UK, Japan and Russia <br>\n",
    "> **Temporal range**: Historical: 1850 - 2014. Scenarios: 2015 - 2100 <br>\n",
    "> **Spatial coverage**: Global <br>\n",
    "> **Format**: NetCDF, compressed into zip files"
   ]
  },
  {
   "cell_type": "markdown",
   "metadata": {},
   "source": [
    "<style>\n",
    "td, th {\n",
    "   border: 1px solid white;\n",
    "   border-collapse: collapse;\n",
    "}\n",
    "</style>\n",
    "<table align=\"left\">\n",
    "  <tr>\n",
    "    <th>Run the tutorial via free cloud platforms: </th>\n",
    "    <th><a href=\"https://mybinder.org/v2/gh/ecmwf-projects/copernicus-training-c3s/main?labpath=04_Climate_Projections_CMIP6.ipynb\">\n",
    "        <img src = \"https://mybinder.org/badge.svg\" alt = \"Binder\"></th>\n",
    "    <th><a href=\"https://kaggle.com/kernels/welcome?src=https://github.com/ecmwf-projects/copernicus-training-c3s/blob/main/04_Climate_Projections_CMIP6.ipynb\">\n",
    "        <img src = \"https://kaggle.com/static/images/open-in-kaggle.svg\" alt = \"Kaggle\"></th>\n",
    "    <th><a href=\"https://colab.research.google.com/github/ecmwf-projects/copernicus-training-c3s/blob/main/04_Climate_Projections_CMIP6.ipynb\">\n",
    "        <img src = \"https://colab.research.google.com/assets/colab-badge.svg\" alt = \"Colab\"></th>\n",
    "  </tr>\n",
    "</table>"
   ]
  },
  {
   "cell_type": "markdown",
   "metadata": {},
   "source": [
    "<hr>"
   ]
  },
  {
   "cell_type": "markdown",
   "metadata": {},
   "source": [
    "### Install CDS API via pip"
   ]
  },
  {
   "cell_type": "code",
   "execution_count": null,
   "metadata": {},
   "outputs": [],
   "source": [
    "!pip install cdsapi"
   ]
  },
  {
   "cell_type": "markdown",
   "metadata": {},
   "source": [
    "### Load libraries"
   ]
  },
  {
   "cell_type": "code",
   "execution_count": 7,
   "metadata": {},
   "outputs": [],
   "source": [
    "# General libs for file paths, data extraction, etc\n",
    "from glob import glob\n",
    "from pathlib import Path\n",
    "from os.path import basename\n",
    "import zipfile # To extract zipfiles\n",
    "import urllib3 \n",
    "urllib3.disable_warnings() # Disable warnings for data download via API\n",
    "\n",
    "# CDS API\n",
    "import cdsapi\n",
    "\n",
    "# Libraries for working with multi-dimensional arrays\n",
    "import numpy as np\n",
    "import xarray as xr\n",
    "import pandas as pd\n",
    "\n",
    "# Libraries for plotting and visualising data\n",
    "import matplotlib.path as mpath\n",
    "import matplotlib.pyplot as plt\n",
    "import cartopy.crs as ccrs\n",
    "from cartopy.mpl.gridliner import LONGITUDE_FORMATTER, LATITUDE_FORMATTER\n",
    "import cartopy.feature as cfeature"
   ]
  },
  {
   "cell_type": "markdown",
   "metadata": {},
   "source": [
    "<hr>"
   ]
  },
  {
   "cell_type": "markdown",
   "metadata": {},
   "source": [
    "## Request data from the CDS programmatically with the CDS API"
   ]
  },
  {
   "cell_type": "markdown",
   "metadata": {},
   "source": [
    "We will request data from the Climate Data Store (CDS) programmatically with the help of the CDS API. Let us make use of the option to manually set the CDS API credentials. First, you have to define two variables: `URL` and `KEY` which build together your CDS API key. The string of characters that make up your KEY include your personal User ID and CDS API key. To obtain these, first register or login to the CDS (http://cds.climate.copernicus.eu), then visit https://cds.climate.copernicus.eu/api-how-to and copy the string of characters listed after \"key:\". Replace the `#########` below with this string."
   ]
  },
  {
   "cell_type": "code",
   "execution_count": 2,
   "metadata": {},
   "outputs": [],
   "source": [
    "URL = 'https://cds.climate.copernicus.eu/api/v2'\n",
    "KEY = '##################################'"
   ]
  },
  {
   "cell_type": "markdown",
   "metadata": {},
   "source": [
    "Here we specify a data directory in which we will download our data and all output files that we will generate:"
   ]
  },
  {
   "cell_type": "code",
   "execution_count": 8,
   "metadata": {},
   "outputs": [],
   "source": [
    "DATADIR = './'"
   ]
  },
  {
   "cell_type": "markdown",
   "metadata": {},
   "source": [
    "The next step is then to request the data with the help of the CDS API. Below, we loop through multiple data requests. These include data for different models and scenarios. It is not possible to specify multiple models in one data request as their spatial resolution varies.\n",
    "\n",
    "We will download monthly aggregated data. These are disseminated as netcdf files within a zip archive.\n",
    "\n",
    "In order to loop through the various experiments and models in our data requests, we will specify them as Python 'lists' here:"
   ]
  },
  {
   "cell_type": "code",
   "execution_count": 9,
   "metadata": {},
   "outputs": [],
   "source": [
    "experiments = ['historical', 'ssp126', 'ssp245', 'ssp585']"
   ]
  },
  {
   "cell_type": "code",
   "execution_count": 10,
   "metadata": {},
   "outputs": [],
   "source": [
    "models = ['hadgem3_gc31_ll', 'inm_cm5_0', 'inm_cm4_8', 'ipsl_cm6a_lr', \n",
    "          'miroc_es2l', 'mpi_esm1_2_lr', 'ukesm1_0_ll']"
   ]
  },
  {
   "cell_type": "markdown",
   "metadata": {},
   "source": [
    "> **Note:** Note that these are a selection of the lightest models (in terms of data volume), to facilitate download for the sake of this exercise. There are many [more models available on the CDS](https://cds.climate.copernicus.eu/cdsapp#!/dataset/projections-cmip6?tab=overview)."
   ]
  },
  {
   "cell_type": "markdown",
   "metadata": {},
   "source": [
    "Now we can download the data for each model and experiment sequentially. We will do this separately for the historical experiments and for the various future scenarios, given that they refer to two different time periods.\n",
    "\n",
    "Before you run the cells below, the terms and conditions on the use of the data need to have been accepted in the CDS. You can view and accept these conditions by logging into the [CDS](http://cds.climate.copernicus.eu), searching for the dataset, then scrolling to the end of the `Download data` section."
   ]
  },
  {
   "cell_type": "markdown",
   "metadata": {},
   "source": [
    "> **Note:** For more information about data access through the Climate Data Store, please see the dedicated tutorial [here](./climate_data_store_intro.ipynb)."
   ]
  },
  {
   "cell_type": "code",
   "execution_count": null,
   "metadata": {},
   "outputs": [],
   "source": [
    "# DOWNLOAD DATA FOR HISTORICAL PERIOD\n",
    "\n",
    "c = cdsapi.Client(url=URL, key=KEY)\n",
    "\n",
    "for j in models:\n",
    "    c.retrieve(\n",
    "        'projections-cmip6',\n",
    "        {\n",
    "            'format': 'zip',\n",
    "            'temporal_resolution': 'monthly',\n",
    "            'experiment': 'historical',\n",
    "            'level': 'single_levels',\n",
    "            'variable': 'near_surface_air_temperature',\n",
    "            'model': f'{j}',\n",
    "            'date': '1850-01-01/2014-12-31',\n",
    "        },\n",
    "        f'{DATADIR}cmip6_monthly_1850-2014_historical_{j}.zip')"
   ]
  },
  {
   "cell_type": "code",
   "execution_count": null,
   "metadata": {},
   "outputs": [],
   "source": [
    "# DOWNLOAD DATA FOR FUTURE SCENARIOS\n",
    "\n",
    "c = cdsapi.Client(url=URL, key=KEY)\n",
    "\n",
    "for i in experiments[1:]:\n",
    "    for j in models:\n",
    "        c.retrieve(\n",
    "            'projections-cmip6',\n",
    "            {\n",
    "                'format': 'zip',\n",
    "                'temporal_resolution': 'monthly',\n",
    "                'experiment': f'{i}',\n",
    "                'level': 'single_levels',\n",
    "                'variable': 'near_surface_air_temperature',\n",
    "                'model': f'{j}',\n",
    "                'date': '2015-01-01/2100-12-31',\n",
    "            },\n",
    "            f'{DATADIR}cmip6_monthly_2015-2100_{i}_{j}.zip')"
   ]
  },
  {
   "cell_type": "markdown",
   "metadata": {},
   "source": [
    "## Unzip the downloaded data files"
   ]
  },
  {
   "cell_type": "markdown",
   "metadata": {},
   "source": [
    "From the CDS, CMIP6 data are available as `NetCDF` files compressed into `zip` archives. For this reason, before we can load any data, we have to extract the files. Having downloaded the four experiments `historical`, `SSP1-2.6`, `SSP2-4.5` and `SSP5-8.5` as seperate zip files, we can use the functions from the `zipfile` Python package to extract their contents. For each zip file we first construct a `ZipFile()` object, then we apply the function `extractall()` to extract its content."
   ]
  },
  {
   "cell_type": "code",
   "execution_count": 11,
   "metadata": {},
   "outputs": [],
   "source": [
    "cmip6_zip_paths = glob(f'{DATADIR}*.zip')\n",
    "for j in cmip6_zip_paths:\n",
    "    with zipfile.ZipFile(j, 'r') as zip_ref:\n",
    "        zip_ref.extractall(f'{DATADIR}')"
   ]
  },
  {
   "cell_type": "markdown",
   "metadata": {},
   "source": [
    "#### Create a list of the extracted files\n",
    "\n",
    "To facilitate batch processing later in the tutorial, here we create a list of the extracted NetCDF files:"
   ]
  },
  {
   "cell_type": "code",
   "execution_count": 12,
   "metadata": {},
   "outputs": [],
   "source": [
    "cmip6_nc = list()\n",
    "cmip6_nc_rel = glob(f'{DATADIR}tas*.nc')\n",
    "for i in cmip6_nc_rel:\n",
    "    cmip6_nc.append(os.path.basename(i))"
   ]
  },
  {
   "cell_type": "markdown",
   "metadata": {},
   "source": [
    "We will briefly inspect this list by printing the first five elements, corresponding to the filenames of a sample of the extracted NetCDF files:"
   ]
  },
  {
   "cell_type": "code",
   "execution_count": 16,
   "metadata": {},
   "outputs": [
    {
     "data": {
      "text/plain": [
       "['tas_Amon_HadGEM3-GC31-LL_historical_r1i1p1f3_gn_18500216-20141216_v20190624.nc',\n",
       " 'tas_Amon_HadGEM3-GC31-LL_ssp126_r1i1p1f3_gn_201501-204912_v20200114.nc',\n",
       " 'tas_Amon_HadGEM3-GC31-LL_ssp126_r1i1p1f3_gn_205001-210012_v20200114.nc',\n",
       " 'tas_Amon_HadGEM3-GC31-LL_ssp245_r1i1p1f3_gn_201501-204912_v20190908.nc',\n",
       " 'tas_Amon_HadGEM3-GC31-LL_ssp245_r1i1p1f3_gn_205001-210012_v20190908.nc']"
      ]
     },
     "execution_count": 16,
     "metadata": {},
     "output_type": "execute_result"
    }
   ],
   "source": [
    "cmip6_nc[0:5]"
   ]
  },
  {
   "cell_type": "markdown",
   "metadata": {},
   "source": [
    "## Load and prepare CMIP6 data for one model and one experiment"
   ]
  },
  {
   "cell_type": "markdown",
   "metadata": {},
   "source": [
    "Now that we have downloaded and extracted the data, we can prepare it in order to view a time series of the spread of annual global temperature for the model ensemble. These preparation steps include the following:\n",
    "\n",
    "1. **Spatial aggregation**: to have a single global temperature value for each model/experiment dataset, and for each time step\n",
    "2. **Temporal aggregation**: from monthly to yearly\n",
    "3. **Conversion of temperature units** from degrees Kelvin to Celsius\n",
    "4. **Addition of data dimensions** in preparation for the merging of datasets from different models and experiments\n",
    "\n",
    "In this section we apply these steps to a single dataset from one model and one experiment. In the next section we merge data from all models/experiments in preparation for the final processing and plotting of the temperature time series."
   ]
  },
  {
   "cell_type": "markdown",
   "metadata": {},
   "source": [
    "#### Load and inspect data"
   ]
  },
  {
   "cell_type": "markdown",
   "metadata": {},
   "source": [
    "We begin by loading the first of the NetCDF files in our list. We will use the Python library [xarray](http://xarray.pydata.org/en/stable/) and its function `open_dataset` to read NetCDF files.\n",
    "\n",
    "The result is a `xarray.Dataset` object with four dimensions: `bnds`, `lat`, `lon`, `time`, of which the dimension `bnds` is not callable."
   ]
  },
  {
   "cell_type": "code",
   "execution_count": 17,
   "metadata": {},
   "outputs": [
    {
     "data": {
      "text/html": [
       "<div><svg style=\"position: absolute; width: 0; height: 0; overflow: hidden\">\n",
       "<defs>\n",
       "<symbol id=\"icon-database\" viewBox=\"0 0 32 32\">\n",
       "<path d=\"M16 0c-8.837 0-16 2.239-16 5v4c0 2.761 7.163 5 16 5s16-2.239 16-5v-4c0-2.761-7.163-5-16-5z\"></path>\n",
       "<path d=\"M16 17c-8.837 0-16-2.239-16-5v6c0 2.761 7.163 5 16 5s16-2.239 16-5v-6c0 2.761-7.163 5-16 5z\"></path>\n",
       "<path d=\"M16 26c-8.837 0-16-2.239-16-5v6c0 2.761 7.163 5 16 5s16-2.239 16-5v-6c0 2.761-7.163 5-16 5z\"></path>\n",
       "</symbol>\n",
       "<symbol id=\"icon-file-text2\" viewBox=\"0 0 32 32\">\n",
       "<path d=\"M28.681 7.159c-0.694-0.947-1.662-2.053-2.724-3.116s-2.169-2.030-3.116-2.724c-1.612-1.182-2.393-1.319-2.841-1.319h-15.5c-1.378 0-2.5 1.121-2.5 2.5v27c0 1.378 1.122 2.5 2.5 2.5h23c1.378 0 2.5-1.122 2.5-2.5v-19.5c0-0.448-0.137-1.23-1.319-2.841zM24.543 5.457c0.959 0.959 1.712 1.825 2.268 2.543h-4.811v-4.811c0.718 0.556 1.584 1.309 2.543 2.268zM28 29.5c0 0.271-0.229 0.5-0.5 0.5h-23c-0.271 0-0.5-0.229-0.5-0.5v-27c0-0.271 0.229-0.5 0.5-0.5 0 0 15.499-0 15.5 0v7c0 0.552 0.448 1 1 1h7v19.5z\"></path>\n",
       "<path d=\"M23 26h-14c-0.552 0-1-0.448-1-1s0.448-1 1-1h14c0.552 0 1 0.448 1 1s-0.448 1-1 1z\"></path>\n",
       "<path d=\"M23 22h-14c-0.552 0-1-0.448-1-1s0.448-1 1-1h14c0.552 0 1 0.448 1 1s-0.448 1-1 1z\"></path>\n",
       "<path d=\"M23 18h-14c-0.552 0-1-0.448-1-1s0.448-1 1-1h14c0.552 0 1 0.448 1 1s-0.448 1-1 1z\"></path>\n",
       "</symbol>\n",
       "</defs>\n",
       "</svg>\n",
       "<style>/* CSS stylesheet for displaying xarray objects in jupyterlab.\n",
       " *\n",
       " */\n",
       "\n",
       ":root {\n",
       "  --xr-font-color0: var(--jp-content-font-color0, rgba(0, 0, 0, 1));\n",
       "  --xr-font-color2: var(--jp-content-font-color2, rgba(0, 0, 0, 0.54));\n",
       "  --xr-font-color3: var(--jp-content-font-color3, rgba(0, 0, 0, 0.38));\n",
       "  --xr-border-color: var(--jp-border-color2, #e0e0e0);\n",
       "  --xr-disabled-color: var(--jp-layout-color3, #bdbdbd);\n",
       "  --xr-background-color: var(--jp-layout-color0, white);\n",
       "  --xr-background-color-row-even: var(--jp-layout-color1, white);\n",
       "  --xr-background-color-row-odd: var(--jp-layout-color2, #eeeeee);\n",
       "}\n",
       "\n",
       "html[theme=dark],\n",
       "body.vscode-dark {\n",
       "  --xr-font-color0: rgba(255, 255, 255, 1);\n",
       "  --xr-font-color2: rgba(255, 255, 255, 0.54);\n",
       "  --xr-font-color3: rgba(255, 255, 255, 0.38);\n",
       "  --xr-border-color: #1F1F1F;\n",
       "  --xr-disabled-color: #515151;\n",
       "  --xr-background-color: #111111;\n",
       "  --xr-background-color-row-even: #111111;\n",
       "  --xr-background-color-row-odd: #313131;\n",
       "}\n",
       "\n",
       ".xr-wrap {\n",
       "  display: block !important;\n",
       "  min-width: 300px;\n",
       "  max-width: 700px;\n",
       "}\n",
       "\n",
       ".xr-text-repr-fallback {\n",
       "  /* fallback to plain text repr when CSS is not injected (untrusted notebook) */\n",
       "  display: none;\n",
       "}\n",
       "\n",
       ".xr-header {\n",
       "  padding-top: 6px;\n",
       "  padding-bottom: 6px;\n",
       "  margin-bottom: 4px;\n",
       "  border-bottom: solid 1px var(--xr-border-color);\n",
       "}\n",
       "\n",
       ".xr-header > div,\n",
       ".xr-header > ul {\n",
       "  display: inline;\n",
       "  margin-top: 0;\n",
       "  margin-bottom: 0;\n",
       "}\n",
       "\n",
       ".xr-obj-type,\n",
       ".xr-array-name {\n",
       "  margin-left: 2px;\n",
       "  margin-right: 10px;\n",
       "}\n",
       "\n",
       ".xr-obj-type {\n",
       "  color: var(--xr-font-color2);\n",
       "}\n",
       "\n",
       ".xr-sections {\n",
       "  padding-left: 0 !important;\n",
       "  display: grid;\n",
       "  grid-template-columns: 150px auto auto 1fr 20px 20px;\n",
       "}\n",
       "\n",
       ".xr-section-item {\n",
       "  display: contents;\n",
       "}\n",
       "\n",
       ".xr-section-item input {\n",
       "  display: none;\n",
       "}\n",
       "\n",
       ".xr-section-item input + label {\n",
       "  color: var(--xr-disabled-color);\n",
       "}\n",
       "\n",
       ".xr-section-item input:enabled + label {\n",
       "  cursor: pointer;\n",
       "  color: var(--xr-font-color2);\n",
       "}\n",
       "\n",
       ".xr-section-item input:enabled + label:hover {\n",
       "  color: var(--xr-font-color0);\n",
       "}\n",
       "\n",
       ".xr-section-summary {\n",
       "  grid-column: 1;\n",
       "  color: var(--xr-font-color2);\n",
       "  font-weight: 500;\n",
       "}\n",
       "\n",
       ".xr-section-summary > span {\n",
       "  display: inline-block;\n",
       "  padding-left: 0.5em;\n",
       "}\n",
       "\n",
       ".xr-section-summary-in:disabled + label {\n",
       "  color: var(--xr-font-color2);\n",
       "}\n",
       "\n",
       ".xr-section-summary-in + label:before {\n",
       "  display: inline-block;\n",
       "  content: '►';\n",
       "  font-size: 11px;\n",
       "  width: 15px;\n",
       "  text-align: center;\n",
       "}\n",
       "\n",
       ".xr-section-summary-in:disabled + label:before {\n",
       "  color: var(--xr-disabled-color);\n",
       "}\n",
       "\n",
       ".xr-section-summary-in:checked + label:before {\n",
       "  content: '▼';\n",
       "}\n",
       "\n",
       ".xr-section-summary-in:checked + label > span {\n",
       "  display: none;\n",
       "}\n",
       "\n",
       ".xr-section-summary,\n",
       ".xr-section-inline-details {\n",
       "  padding-top: 4px;\n",
       "  padding-bottom: 4px;\n",
       "}\n",
       "\n",
       ".xr-section-inline-details {\n",
       "  grid-column: 2 / -1;\n",
       "}\n",
       "\n",
       ".xr-section-details {\n",
       "  display: none;\n",
       "  grid-column: 1 / -1;\n",
       "  margin-bottom: 5px;\n",
       "}\n",
       "\n",
       ".xr-section-summary-in:checked ~ .xr-section-details {\n",
       "  display: contents;\n",
       "}\n",
       "\n",
       ".xr-array-wrap {\n",
       "  grid-column: 1 / -1;\n",
       "  display: grid;\n",
       "  grid-template-columns: 20px auto;\n",
       "}\n",
       "\n",
       ".xr-array-wrap > label {\n",
       "  grid-column: 1;\n",
       "  vertical-align: top;\n",
       "}\n",
       "\n",
       ".xr-preview {\n",
       "  color: var(--xr-font-color3);\n",
       "}\n",
       "\n",
       ".xr-array-preview,\n",
       ".xr-array-data {\n",
       "  padding: 0 5px !important;\n",
       "  grid-column: 2;\n",
       "}\n",
       "\n",
       ".xr-array-data,\n",
       ".xr-array-in:checked ~ .xr-array-preview {\n",
       "  display: none;\n",
       "}\n",
       "\n",
       ".xr-array-in:checked ~ .xr-array-data,\n",
       ".xr-array-preview {\n",
       "  display: inline-block;\n",
       "}\n",
       "\n",
       ".xr-dim-list {\n",
       "  display: inline-block !important;\n",
       "  list-style: none;\n",
       "  padding: 0 !important;\n",
       "  margin: 0;\n",
       "}\n",
       "\n",
       ".xr-dim-list li {\n",
       "  display: inline-block;\n",
       "  padding: 0;\n",
       "  margin: 0;\n",
       "}\n",
       "\n",
       ".xr-dim-list:before {\n",
       "  content: '(';\n",
       "}\n",
       "\n",
       ".xr-dim-list:after {\n",
       "  content: ')';\n",
       "}\n",
       "\n",
       ".xr-dim-list li:not(:last-child):after {\n",
       "  content: ',';\n",
       "  padding-right: 5px;\n",
       "}\n",
       "\n",
       ".xr-has-index {\n",
       "  font-weight: bold;\n",
       "}\n",
       "\n",
       ".xr-var-list,\n",
       ".xr-var-item {\n",
       "  display: contents;\n",
       "}\n",
       "\n",
       ".xr-var-item > div,\n",
       ".xr-var-item label,\n",
       ".xr-var-item > .xr-var-name span {\n",
       "  background-color: var(--xr-background-color-row-even);\n",
       "  margin-bottom: 0;\n",
       "}\n",
       "\n",
       ".xr-var-item > .xr-var-name:hover span {\n",
       "  padding-right: 5px;\n",
       "}\n",
       "\n",
       ".xr-var-list > li:nth-child(odd) > div,\n",
       ".xr-var-list > li:nth-child(odd) > label,\n",
       ".xr-var-list > li:nth-child(odd) > .xr-var-name span {\n",
       "  background-color: var(--xr-background-color-row-odd);\n",
       "}\n",
       "\n",
       ".xr-var-name {\n",
       "  grid-column: 1;\n",
       "}\n",
       "\n",
       ".xr-var-dims {\n",
       "  grid-column: 2;\n",
       "}\n",
       "\n",
       ".xr-var-dtype {\n",
       "  grid-column: 3;\n",
       "  text-align: right;\n",
       "  color: var(--xr-font-color2);\n",
       "}\n",
       "\n",
       ".xr-var-preview {\n",
       "  grid-column: 4;\n",
       "}\n",
       "\n",
       ".xr-var-name,\n",
       ".xr-var-dims,\n",
       ".xr-var-dtype,\n",
       ".xr-preview,\n",
       ".xr-attrs dt {\n",
       "  white-space: nowrap;\n",
       "  overflow: hidden;\n",
       "  text-overflow: ellipsis;\n",
       "  padding-right: 10px;\n",
       "}\n",
       "\n",
       ".xr-var-name:hover,\n",
       ".xr-var-dims:hover,\n",
       ".xr-var-dtype:hover,\n",
       ".xr-attrs dt:hover {\n",
       "  overflow: visible;\n",
       "  width: auto;\n",
       "  z-index: 1;\n",
       "}\n",
       "\n",
       ".xr-var-attrs,\n",
       ".xr-var-data {\n",
       "  display: none;\n",
       "  background-color: var(--xr-background-color) !important;\n",
       "  padding-bottom: 5px !important;\n",
       "}\n",
       "\n",
       ".xr-var-attrs-in:checked ~ .xr-var-attrs,\n",
       ".xr-var-data-in:checked ~ .xr-var-data {\n",
       "  display: block;\n",
       "}\n",
       "\n",
       ".xr-var-data > table {\n",
       "  float: right;\n",
       "}\n",
       "\n",
       ".xr-var-name span,\n",
       ".xr-var-data,\n",
       ".xr-attrs {\n",
       "  padding-left: 25px !important;\n",
       "}\n",
       "\n",
       ".xr-attrs,\n",
       ".xr-var-attrs,\n",
       ".xr-var-data {\n",
       "  grid-column: 1 / -1;\n",
       "}\n",
       "\n",
       "dl.xr-attrs {\n",
       "  padding: 0;\n",
       "  margin: 0;\n",
       "  display: grid;\n",
       "  grid-template-columns: 125px auto;\n",
       "}\n",
       "\n",
       ".xr-attrs dt,\n",
       ".xr-attrs dd {\n",
       "  padding: 0;\n",
       "  margin: 0;\n",
       "  float: left;\n",
       "  padding-right: 10px;\n",
       "  width: auto;\n",
       "}\n",
       "\n",
       ".xr-attrs dt {\n",
       "  font-weight: normal;\n",
       "  grid-column: 1;\n",
       "}\n",
       "\n",
       ".xr-attrs dt:hover span {\n",
       "  display: inline-block;\n",
       "  background: var(--xr-background-color);\n",
       "  padding-right: 10px;\n",
       "}\n",
       "\n",
       ".xr-attrs dd {\n",
       "  grid-column: 2;\n",
       "  white-space: pre-wrap;\n",
       "  word-break: break-all;\n",
       "}\n",
       "\n",
       ".xr-icon-database,\n",
       ".xr-icon-file-text2 {\n",
       "  display: inline-block;\n",
       "  vertical-align: middle;\n",
       "  width: 1em;\n",
       "  height: 1.5em !important;\n",
       "  stroke-width: 0;\n",
       "  stroke: currentColor;\n",
       "  fill: currentColor;\n",
       "}\n",
       "</style><pre class='xr-text-repr-fallback'>&lt;xarray.Dataset&gt;\n",
       "Dimensions:    (time: 1979, bnds: 2, lat: 144, lon: 192)\n",
       "Coordinates:\n",
       "  * time       (time) object 1850-02-16 00:00:00 ... 2014-12-16 00:00:00\n",
       "  * lat        (lat) float64 -89.38 -88.12 -86.88 -85.62 ... 86.88 88.12 89.38\n",
       "  * lon        (lon) float64 0.9375 2.812 4.688 6.562 ... 355.3 357.2 359.1\n",
       "    height     float64 1.5\n",
       "Dimensions without coordinates: bnds\n",
       "Data variables:\n",
       "    time_bnds  (time, bnds) object 1850-02-01 00:00:00 ... 2015-01-01 00:00:00\n",
       "    lat_bnds   (time, lat, bnds) float64 ...\n",
       "    lon_bnds   (time, lon, bnds) float64 ...\n",
       "    tas        (time, lat, lon) float32 ...\n",
       "Attributes: (12/46)\n",
       "    Conventions:            CF-1.7 CMIP-6.2\n",
       "    activity_id:            CMIP\n",
       "    branch_method:          standard\n",
       "    branch_time_in_child:   0.0\n",
       "    branch_time_in_parent:  0.0\n",
       "    creation_date:          2019-06-19T11:21:17Z\n",
       "    ...                     ...\n",
       "    title:                  HadGEM3-GC31-LL output prepared for CMIP6\n",
       "    variable_id:            tas\n",
       "    variant_label:          r1i1p1f3\n",
       "    license:                CMIP6 model data produced by the Met Office Hadle...\n",
       "    cmor_version:           3.4.0\n",
       "    tracking_id:            hdl:21.14100/b6959414-d5ed-4cd9-a627-59238e52132d</pre><div class='xr-wrap' style='display:none'><div class='xr-header'><div class='xr-obj-type'>xarray.Dataset</div></div><ul class='xr-sections'><li class='xr-section-item'><input id='section-5681388b-94ef-4c6c-be68-98adaff1cb75' class='xr-section-summary-in' type='checkbox' disabled ><label for='section-5681388b-94ef-4c6c-be68-98adaff1cb75' class='xr-section-summary'  title='Expand/collapse section'>Dimensions:</label><div class='xr-section-inline-details'><ul class='xr-dim-list'><li><span class='xr-has-index'>time</span>: 1979</li><li><span>bnds</span>: 2</li><li><span class='xr-has-index'>lat</span>: 144</li><li><span class='xr-has-index'>lon</span>: 192</li></ul></div><div class='xr-section-details'></div></li><li class='xr-section-item'><input id='section-39dd8668-2684-4987-98b9-4f10095a77a4' class='xr-section-summary-in' type='checkbox'  checked><label for='section-39dd8668-2684-4987-98b9-4f10095a77a4' class='xr-section-summary' >Coordinates: <span>(4)</span></label><div class='xr-section-inline-details'></div><div class='xr-section-details'><ul class='xr-var-list'><li class='xr-var-item'><div class='xr-var-name'><span class='xr-has-index'>time</span></div><div class='xr-var-dims'>(time)</div><div class='xr-var-dtype'>object</div><div class='xr-var-preview xr-preview'>1850-02-16 00:00:00 ... 2014-12-...</div><input id='attrs-c76133e6-226e-46cb-bae2-896cee42c07b' class='xr-var-attrs-in' type='checkbox' ><label for='attrs-c76133e6-226e-46cb-bae2-896cee42c07b' title='Show/Hide attributes'><svg class='icon xr-icon-file-text2'><use xlink:href='#icon-file-text2'></use></svg></label><input id='data-da6d06da-c426-48eb-94d9-c5b7c23e4225' class='xr-var-data-in' type='checkbox'><label for='data-da6d06da-c426-48eb-94d9-c5b7c23e4225' title='Show/Hide data repr'><svg class='icon xr-icon-database'><use xlink:href='#icon-database'></use></svg></label><div class='xr-var-attrs'><dl class='xr-attrs'><dt><span>bounds :</span></dt><dd>time_bnds</dd><dt><span>axis :</span></dt><dd>T</dd><dt><span>long_name :</span></dt><dd>time</dd><dt><span>standard_name :</span></dt><dd>time</dd></dl></div><div class='xr-var-data'><pre>array([cftime.Datetime360Day(1850, 2, 16, 0, 0, 0, 0, has_year_zero=True),\n",
       "       cftime.Datetime360Day(1850, 3, 16, 0, 0, 0, 0, has_year_zero=True),\n",
       "       cftime.Datetime360Day(1850, 4, 16, 0, 0, 0, 0, has_year_zero=True), ...,\n",
       "       cftime.Datetime360Day(2014, 10, 16, 0, 0, 0, 0, has_year_zero=True),\n",
       "       cftime.Datetime360Day(2014, 11, 16, 0, 0, 0, 0, has_year_zero=True),\n",
       "       cftime.Datetime360Day(2014, 12, 16, 0, 0, 0, 0, has_year_zero=True)],\n",
       "      dtype=object)</pre></div></li><li class='xr-var-item'><div class='xr-var-name'><span class='xr-has-index'>lat</span></div><div class='xr-var-dims'>(lat)</div><div class='xr-var-dtype'>float64</div><div class='xr-var-preview xr-preview'>-89.38 -88.12 ... 88.12 89.38</div><input id='attrs-cc8cb79f-ecef-4d58-a0a0-f5359ef5ca22' class='xr-var-attrs-in' type='checkbox' ><label for='attrs-cc8cb79f-ecef-4d58-a0a0-f5359ef5ca22' title='Show/Hide attributes'><svg class='icon xr-icon-file-text2'><use xlink:href='#icon-file-text2'></use></svg></label><input id='data-350d789a-fc2c-4527-b2c6-9a33ee5e309f' class='xr-var-data-in' type='checkbox'><label for='data-350d789a-fc2c-4527-b2c6-9a33ee5e309f' title='Show/Hide data repr'><svg class='icon xr-icon-database'><use xlink:href='#icon-database'></use></svg></label><div class='xr-var-attrs'><dl class='xr-attrs'><dt><span>bounds :</span></dt><dd>lat_bnds</dd><dt><span>units :</span></dt><dd>degrees_north</dd><dt><span>axis :</span></dt><dd>Y</dd><dt><span>long_name :</span></dt><dd>Latitude</dd><dt><span>standard_name :</span></dt><dd>latitude</dd></dl></div><div class='xr-var-data'><pre>array([-89.375, -88.125, -86.875, -85.625, -84.375, -83.125, -81.875, -80.625,\n",
       "       -79.375, -78.125, -76.875, -75.625, -74.375, -73.125, -71.875, -70.625,\n",
       "       -69.375, -68.125, -66.875, -65.625, -64.375, -63.125, -61.875, -60.625,\n",
       "       -59.375, -58.125, -56.875, -55.625, -54.375, -53.125, -51.875, -50.625,\n",
       "       -49.375, -48.125, -46.875, -45.625, -44.375, -43.125, -41.875, -40.625,\n",
       "       -39.375, -38.125, -36.875, -35.625, -34.375, -33.125, -31.875, -30.625,\n",
       "       -29.375, -28.125, -26.875, -25.625, -24.375, -23.125, -21.875, -20.625,\n",
       "       -19.375, -18.125, -16.875, -15.625, -14.375, -13.125, -11.875, -10.625,\n",
       "        -9.375,  -8.125,  -6.875,  -5.625,  -4.375,  -3.125,  -1.875,  -0.625,\n",
       "         0.625,   1.875,   3.125,   4.375,   5.625,   6.875,   8.125,   9.375,\n",
       "        10.625,  11.875,  13.125,  14.375,  15.625,  16.875,  18.125,  19.375,\n",
       "        20.625,  21.875,  23.125,  24.375,  25.625,  26.875,  28.125,  29.375,\n",
       "        30.625,  31.875,  33.125,  34.375,  35.625,  36.875,  38.125,  39.375,\n",
       "        40.625,  41.875,  43.125,  44.375,  45.625,  46.875,  48.125,  49.375,\n",
       "        50.625,  51.875,  53.125,  54.375,  55.625,  56.875,  58.125,  59.375,\n",
       "        60.625,  61.875,  63.125,  64.375,  65.625,  66.875,  68.125,  69.375,\n",
       "        70.625,  71.875,  73.125,  74.375,  75.625,  76.875,  78.125,  79.375,\n",
       "        80.625,  81.875,  83.125,  84.375,  85.625,  86.875,  88.125,  89.375])</pre></div></li><li class='xr-var-item'><div class='xr-var-name'><span class='xr-has-index'>lon</span></div><div class='xr-var-dims'>(lon)</div><div class='xr-var-dtype'>float64</div><div class='xr-var-preview xr-preview'>0.9375 2.812 4.688 ... 357.2 359.1</div><input id='attrs-b528edbe-4daa-4d25-824a-2e8488a4c447' class='xr-var-attrs-in' type='checkbox' ><label for='attrs-b528edbe-4daa-4d25-824a-2e8488a4c447' title='Show/Hide attributes'><svg class='icon xr-icon-file-text2'><use xlink:href='#icon-file-text2'></use></svg></label><input id='data-1dfaa9d2-2a46-436c-aec9-d4e310b1a985' class='xr-var-data-in' type='checkbox'><label for='data-1dfaa9d2-2a46-436c-aec9-d4e310b1a985' title='Show/Hide data repr'><svg class='icon xr-icon-database'><use xlink:href='#icon-database'></use></svg></label><div class='xr-var-attrs'><dl class='xr-attrs'><dt><span>bounds :</span></dt><dd>lon_bnds</dd><dt><span>units :</span></dt><dd>degrees_east</dd><dt><span>axis :</span></dt><dd>X</dd><dt><span>long_name :</span></dt><dd>Longitude</dd><dt><span>standard_name :</span></dt><dd>longitude</dd></dl></div><div class='xr-var-data'><pre>array([  0.9375,   2.8125,   4.6875,   6.5625,   8.4375,  10.3125,  12.1875,\n",
       "        14.0625,  15.9375,  17.8125,  19.6875,  21.5625,  23.4375,  25.3125,\n",
       "        27.1875,  29.0625,  30.9375,  32.8125,  34.6875,  36.5625,  38.4375,\n",
       "        40.3125,  42.1875,  44.0625,  45.9375,  47.8125,  49.6875,  51.5625,\n",
       "        53.4375,  55.3125,  57.1875,  59.0625,  60.9375,  62.8125,  64.6875,\n",
       "        66.5625,  68.4375,  70.3125,  72.1875,  74.0625,  75.9375,  77.8125,\n",
       "        79.6875,  81.5625,  83.4375,  85.3125,  87.1875,  89.0625,  90.9375,\n",
       "        92.8125,  94.6875,  96.5625,  98.4375, 100.3125, 102.1875, 104.0625,\n",
       "       105.9375, 107.8125, 109.6875, 111.5625, 113.4375, 115.3125, 117.1875,\n",
       "       119.0625, 120.9375, 122.8125, 124.6875, 126.5625, 128.4375, 130.3125,\n",
       "       132.1875, 134.0625, 135.9375, 137.8125, 139.6875, 141.5625, 143.4375,\n",
       "       145.3125, 147.1875, 149.0625, 150.9375, 152.8125, 154.6875, 156.5625,\n",
       "       158.4375, 160.3125, 162.1875, 164.0625, 165.9375, 167.8125, 169.6875,\n",
       "       171.5625, 173.4375, 175.3125, 177.1875, 179.0625, 180.9375, 182.8125,\n",
       "       184.6875, 186.5625, 188.4375, 190.3125, 192.1875, 194.0625, 195.9375,\n",
       "       197.8125, 199.6875, 201.5625, 203.4375, 205.3125, 207.1875, 209.0625,\n",
       "       210.9375, 212.8125, 214.6875, 216.5625, 218.4375, 220.3125, 222.1875,\n",
       "       224.0625, 225.9375, 227.8125, 229.6875, 231.5625, 233.4375, 235.3125,\n",
       "       237.1875, 239.0625, 240.9375, 242.8125, 244.6875, 246.5625, 248.4375,\n",
       "       250.3125, 252.1875, 254.0625, 255.9375, 257.8125, 259.6875, 261.5625,\n",
       "       263.4375, 265.3125, 267.1875, 269.0625, 270.9375, 272.8125, 274.6875,\n",
       "       276.5625, 278.4375, 280.3125, 282.1875, 284.0625, 285.9375, 287.8125,\n",
       "       289.6875, 291.5625, 293.4375, 295.3125, 297.1875, 299.0625, 300.9375,\n",
       "       302.8125, 304.6875, 306.5625, 308.4375, 310.3125, 312.1875, 314.0625,\n",
       "       315.9375, 317.8125, 319.6875, 321.5625, 323.4375, 325.3125, 327.1875,\n",
       "       329.0625, 330.9375, 332.8125, 334.6875, 336.5625, 338.4375, 340.3125,\n",
       "       342.1875, 344.0625, 345.9375, 347.8125, 349.6875, 351.5625, 353.4375,\n",
       "       355.3125, 357.1875, 359.0625])</pre></div></li><li class='xr-var-item'><div class='xr-var-name'><span>height</span></div><div class='xr-var-dims'>()</div><div class='xr-var-dtype'>float64</div><div class='xr-var-preview xr-preview'>...</div><input id='attrs-79720cd7-5de5-41e2-b0f1-ac0e1ead9091' class='xr-var-attrs-in' type='checkbox' ><label for='attrs-79720cd7-5de5-41e2-b0f1-ac0e1ead9091' title='Show/Hide attributes'><svg class='icon xr-icon-file-text2'><use xlink:href='#icon-file-text2'></use></svg></label><input id='data-e3d8fc4c-4ef4-43f2-8e12-e5ecd79daba8' class='xr-var-data-in' type='checkbox'><label for='data-e3d8fc4c-4ef4-43f2-8e12-e5ecd79daba8' title='Show/Hide data repr'><svg class='icon xr-icon-database'><use xlink:href='#icon-database'></use></svg></label><div class='xr-var-attrs'><dl class='xr-attrs'><dt><span>units :</span></dt><dd>m</dd><dt><span>axis :</span></dt><dd>Z</dd><dt><span>positive :</span></dt><dd>up</dd><dt><span>long_name :</span></dt><dd>height</dd><dt><span>standard_name :</span></dt><dd>height</dd></dl></div><div class='xr-var-data'><pre>array(1.5)</pre></div></li></ul></div></li><li class='xr-section-item'><input id='section-82b1784d-1492-44f8-8cb4-0cbf81108681' class='xr-section-summary-in' type='checkbox'  checked><label for='section-82b1784d-1492-44f8-8cb4-0cbf81108681' class='xr-section-summary' >Data variables: <span>(4)</span></label><div class='xr-section-inline-details'></div><div class='xr-section-details'><ul class='xr-var-list'><li class='xr-var-item'><div class='xr-var-name'><span>time_bnds</span></div><div class='xr-var-dims'>(time, bnds)</div><div class='xr-var-dtype'>object</div><div class='xr-var-preview xr-preview'>...</div><input id='attrs-f0380d82-1de6-42f8-8577-7572147a5b20' class='xr-var-attrs-in' type='checkbox' disabled><label for='attrs-f0380d82-1de6-42f8-8577-7572147a5b20' title='Show/Hide attributes'><svg class='icon xr-icon-file-text2'><use xlink:href='#icon-file-text2'></use></svg></label><input id='data-831480e9-462a-46af-a1c5-a54e170fa247' class='xr-var-data-in' type='checkbox'><label for='data-831480e9-462a-46af-a1c5-a54e170fa247' title='Show/Hide data repr'><svg class='icon xr-icon-database'><use xlink:href='#icon-database'></use></svg></label><div class='xr-var-attrs'><dl class='xr-attrs'></dl></div><div class='xr-var-data'><pre>array([[cftime.Datetime360Day(1850, 2, 1, 0, 0, 0, 0, has_year_zero=True),\n",
       "        cftime.Datetime360Day(1850, 3, 1, 0, 0, 0, 0, has_year_zero=True)],\n",
       "       [cftime.Datetime360Day(1850, 3, 1, 0, 0, 0, 0, has_year_zero=True),\n",
       "        cftime.Datetime360Day(1850, 4, 1, 0, 0, 0, 0, has_year_zero=True)],\n",
       "       [cftime.Datetime360Day(1850, 4, 1, 0, 0, 0, 0, has_year_zero=True),\n",
       "        cftime.Datetime360Day(1850, 5, 1, 0, 0, 0, 0, has_year_zero=True)],\n",
       "       ...,\n",
       "       [cftime.Datetime360Day(2014, 10, 1, 0, 0, 0, 0, has_year_zero=True),\n",
       "        cftime.Datetime360Day(2014, 11, 1, 0, 0, 0, 0, has_year_zero=True)],\n",
       "       [cftime.Datetime360Day(2014, 11, 1, 0, 0, 0, 0, has_year_zero=True),\n",
       "        cftime.Datetime360Day(2014, 12, 1, 0, 0, 0, 0, has_year_zero=True)],\n",
       "       [cftime.Datetime360Day(2014, 12, 1, 0, 0, 0, 0, has_year_zero=True),\n",
       "        cftime.Datetime360Day(2015, 1, 1, 0, 0, 0, 0, has_year_zero=True)]],\n",
       "      dtype=object)</pre></div></li><li class='xr-var-item'><div class='xr-var-name'><span>lat_bnds</span></div><div class='xr-var-dims'>(time, lat, bnds)</div><div class='xr-var-dtype'>float64</div><div class='xr-var-preview xr-preview'>...</div><input id='attrs-eca48b47-dcbc-47d7-86bd-dab7f68dca29' class='xr-var-attrs-in' type='checkbox' disabled><label for='attrs-eca48b47-dcbc-47d7-86bd-dab7f68dca29' title='Show/Hide attributes'><svg class='icon xr-icon-file-text2'><use xlink:href='#icon-file-text2'></use></svg></label><input id='data-fb356ef7-1a02-4a29-be63-3c7610f86f6a' class='xr-var-data-in' type='checkbox'><label for='data-fb356ef7-1a02-4a29-be63-3c7610f86f6a' title='Show/Hide data repr'><svg class='icon xr-icon-database'><use xlink:href='#icon-database'></use></svg></label><div class='xr-var-attrs'><dl class='xr-attrs'></dl></div><div class='xr-var-data'><pre>[569952 values with dtype=float64]</pre></div></li><li class='xr-var-item'><div class='xr-var-name'><span>lon_bnds</span></div><div class='xr-var-dims'>(time, lon, bnds)</div><div class='xr-var-dtype'>float64</div><div class='xr-var-preview xr-preview'>...</div><input id='attrs-4f894d3f-d91d-430b-917d-3afa0fe9a2eb' class='xr-var-attrs-in' type='checkbox' disabled><label for='attrs-4f894d3f-d91d-430b-917d-3afa0fe9a2eb' title='Show/Hide attributes'><svg class='icon xr-icon-file-text2'><use xlink:href='#icon-file-text2'></use></svg></label><input id='data-25f1fe65-5c26-4d4e-a414-a53d28357153' class='xr-var-data-in' type='checkbox'><label for='data-25f1fe65-5c26-4d4e-a414-a53d28357153' title='Show/Hide data repr'><svg class='icon xr-icon-database'><use xlink:href='#icon-database'></use></svg></label><div class='xr-var-attrs'><dl class='xr-attrs'></dl></div><div class='xr-var-data'><pre>[759936 values with dtype=float64]</pre></div></li><li class='xr-var-item'><div class='xr-var-name'><span>tas</span></div><div class='xr-var-dims'>(time, lat, lon)</div><div class='xr-var-dtype'>float32</div><div class='xr-var-preview xr-preview'>...</div><input id='attrs-f239ec91-d88a-46f7-b6a8-ee3a6dacb479' class='xr-var-attrs-in' type='checkbox' ><label for='attrs-f239ec91-d88a-46f7-b6a8-ee3a6dacb479' title='Show/Hide attributes'><svg class='icon xr-icon-file-text2'><use xlink:href='#icon-file-text2'></use></svg></label><input id='data-3dce1f1e-df81-4ddd-878d-1c2698f094c8' class='xr-var-data-in' type='checkbox'><label for='data-3dce1f1e-df81-4ddd-878d-1c2698f094c8' title='Show/Hide data repr'><svg class='icon xr-icon-database'><use xlink:href='#icon-database'></use></svg></label><div class='xr-var-attrs'><dl class='xr-attrs'><dt><span>standard_name :</span></dt><dd>air_temperature</dd><dt><span>long_name :</span></dt><dd>Near-Surface Air Temperature</dd><dt><span>comment :</span></dt><dd>near-surface (usually, 2 meter) air temperature</dd><dt><span>units :</span></dt><dd>K</dd><dt><span>original_name :</span></dt><dd>mo: (stash: m01s03i236, lbproc: 128)</dd><dt><span>cell_methods :</span></dt><dd>area: time: mean</dd><dt><span>cell_measures :</span></dt><dd>area: areacella</dd><dt><span>history :</span></dt><dd>2019-06-19T11:21:17Z altered by CMOR: Treated scalar dimension: &#x27;height&#x27;. 2019-06-19T11:21:17Z altered by CMOR: replaced missing value flag (-1.07374e+09) with standard missing value (1e+20).</dd></dl></div><div class='xr-var-data'><pre>[54715392 values with dtype=float32]</pre></div></li></ul></div></li><li class='xr-section-item'><input id='section-fa099ab3-8b89-4967-b9ad-b3caa1e2a23b' class='xr-section-summary-in' type='checkbox'  ><label for='section-fa099ab3-8b89-4967-b9ad-b3caa1e2a23b' class='xr-section-summary' >Attributes: <span>(46)</span></label><div class='xr-section-inline-details'></div><div class='xr-section-details'><dl class='xr-attrs'><dt><span>Conventions :</span></dt><dd>CF-1.7 CMIP-6.2</dd><dt><span>activity_id :</span></dt><dd>CMIP</dd><dt><span>branch_method :</span></dt><dd>standard</dd><dt><span>branch_time_in_child :</span></dt><dd>0.0</dd><dt><span>branch_time_in_parent :</span></dt><dd>0.0</dd><dt><span>creation_date :</span></dt><dd>2019-06-19T11:21:17Z</dd><dt><span>cv_version :</span></dt><dd>6.2.20.1</dd><dt><span>data_specs_version :</span></dt><dd>01.00.29</dd><dt><span>experiment :</span></dt><dd>all-forcing simulation of the recent past</dd><dt><span>experiment_id :</span></dt><dd>historical</dd><dt><span>external_variables :</span></dt><dd>areacella</dd><dt><span>forcing_index :</span></dt><dd>3</dd><dt><span>frequency :</span></dt><dd>mon</dd><dt><span>further_info_url :</span></dt><dd>https://furtherinfo.es-doc.org/CMIP6.MOHC.HadGEM3-GC31-LL.historical.none.r1i1p1f3</dd><dt><span>grid :</span></dt><dd>Native N96 grid; 192 x 144 longitude/latitude</dd><dt><span>grid_label :</span></dt><dd>gn</dd><dt><span>history :</span></dt><dd>2019-06-19T11:11:07Z ; CMOR rewrote data to be consistent with CMIP6, CF-1.7 CMIP-6.2 and CF standards.;\n",
       "2019-06-19T11:10:54Z MIP Convert v1.1.0, Python v2.7.12, Iris v1.13.0, Numpy v1.13.3, netcdftime v1.4.1.</dd><dt><span>initialization_index :</span></dt><dd>1</dd><dt><span>institution :</span></dt><dd>Met Office Hadley Centre, Fitzroy Road, Exeter, Devon, EX1 3PB, UK</dd><dt><span>institution_id :</span></dt><dd>MOHC</dd><dt><span>mip_era :</span></dt><dd>CMIP6</dd><dt><span>mo_runid :</span></dt><dd>u-bg466</dd><dt><span>nominal_resolution :</span></dt><dd>250 km</dd><dt><span>parent_activity_id :</span></dt><dd>CMIP</dd><dt><span>parent_experiment_id :</span></dt><dd>piControl</dd><dt><span>parent_mip_era :</span></dt><dd>CMIP6</dd><dt><span>parent_source_id :</span></dt><dd>HadGEM3-GC31-LL</dd><dt><span>parent_time_units :</span></dt><dd>days since 1850-01-01-00-00-00</dd><dt><span>parent_variant_label :</span></dt><dd>r1i1p1f1</dd><dt><span>physics_index :</span></dt><dd>1</dd><dt><span>product :</span></dt><dd>model-output</dd><dt><span>realization_index :</span></dt><dd>1</dd><dt><span>realm :</span></dt><dd>atmos</dd><dt><span>source :</span></dt><dd>HadGEM3-GC31-LL (2016): \n",
       "aerosol: UKCA-GLOMAP-mode\n",
       "atmos: MetUM-HadGEM3-GA7.1 (N96; 192 x 144 longitude/latitude; 85 levels; top level 85 km)\n",
       "atmosChem: none\n",
       "land: JULES-HadGEM3-GL7.1\n",
       "landIce: none\n",
       "ocean: NEMO-HadGEM3-GO6.0 (eORCA1 tripolar primarily 1 deg with meridional refinement down to 1/3 degree in the tropics; 360 x 330 longitude/latitude; 75 levels; top grid cell 0-1 m)\n",
       "ocnBgchem: none\n",
       "seaIce: CICE-HadGEM3-GSI8 (eORCA1 tripolar primarily 1 deg; 360 x 330 longitude/latitude)</dd><dt><span>source_id :</span></dt><dd>HadGEM3-GC31-LL</dd><dt><span>source_type :</span></dt><dd>AOGCM AER</dd><dt><span>sub_experiment :</span></dt><dd>none</dd><dt><span>sub_experiment_id :</span></dt><dd>none</dd><dt><span>table_id :</span></dt><dd>Amon</dd><dt><span>table_info :</span></dt><dd>Creation Date:(13 December 2018) MD5:2b12b5db6db112aa8b8b0d6c1645b121</dd><dt><span>title :</span></dt><dd>HadGEM3-GC31-LL output prepared for CMIP6</dd><dt><span>variable_id :</span></dt><dd>tas</dd><dt><span>variant_label :</span></dt><dd>r1i1p1f3</dd><dt><span>license :</span></dt><dd>CMIP6 model data produced by the Met Office Hadley Centre is licensed under a Creative Commons Attribution-ShareAlike 4.0 International License (https://creativecommons.org/licenses). Consult https://pcmdi.llnl.gov/CMIP6/TermsOfUse for terms of use governing CMIP6 output, including citation requirements and proper acknowledgment. Further information about this data, including some limitations, can be found via the further_info_url (recorded as a global attribute in this file) and at https://ukesm.ac.uk/cmip6. The data producers and data providers make no warranty, either express or implied, including, but not limited to, warranties of merchantability and fitness for a particular purpose. All liabilities arising from the supply of the information (including any liability arising in negligence) are excluded to the fullest extent permitted by law.</dd><dt><span>cmor_version :</span></dt><dd>3.4.0</dd><dt><span>tracking_id :</span></dt><dd>hdl:21.14100/b6959414-d5ed-4cd9-a627-59238e52132d</dd></dl></div></li></ul></div></div>"
      ],
      "text/plain": [
       "<xarray.Dataset>\n",
       "Dimensions:    (time: 1979, bnds: 2, lat: 144, lon: 192)\n",
       "Coordinates:\n",
       "  * time       (time) object 1850-02-16 00:00:00 ... 2014-12-16 00:00:00\n",
       "  * lat        (lat) float64 -89.38 -88.12 -86.88 -85.62 ... 86.88 88.12 89.38\n",
       "  * lon        (lon) float64 0.9375 2.812 4.688 6.562 ... 355.3 357.2 359.1\n",
       "    height     float64 ...\n",
       "Dimensions without coordinates: bnds\n",
       "Data variables:\n",
       "    time_bnds  (time, bnds) object ...\n",
       "    lat_bnds   (time, lat, bnds) float64 ...\n",
       "    lon_bnds   (time, lon, bnds) float64 ...\n",
       "    tas        (time, lat, lon) float32 ...\n",
       "Attributes: (12/46)\n",
       "    Conventions:            CF-1.7 CMIP-6.2\n",
       "    activity_id:            CMIP\n",
       "    branch_method:          standard\n",
       "    branch_time_in_child:   0.0\n",
       "    branch_time_in_parent:  0.0\n",
       "    creation_date:          2019-06-19T11:21:17Z\n",
       "    ...                     ...\n",
       "    title:                  HadGEM3-GC31-LL output prepared for CMIP6\n",
       "    variable_id:            tas\n",
       "    variant_label:          r1i1p1f3\n",
       "    license:                CMIP6 model data produced by the Met Office Hadle...\n",
       "    cmor_version:           3.4.0\n",
       "    tracking_id:            hdl:21.14100/b6959414-d5ed-4cd9-a627-59238e52132d"
      ]
     },
     "execution_count": 17,
     "metadata": {},
     "output_type": "execute_result"
    }
   ],
   "source": [
    "ds = xr.open_dataset(f'{DATADIR}{cmip6_nc[0]}')\n",
    "ds"
   ]
  },
  {
   "cell_type": "markdown",
   "metadata": {},
   "source": [
    "By examining the data above, we can see from the temporal range (1850 to 2014) that it is from the `historical` experiment.\n",
    "\n",
    "We see that the data dimensions have been given labelled coordinates of time, latitude and longitude. We can find more about the dataset from the `Attributes`, such information includes the model name, description of the variable (`long_name`), units, etc.\n",
    "\n",
    "Some of this information we will need later, this includes the experiment and model IDs. We will save these into variables:"
   ]
  },
  {
   "cell_type": "code",
   "execution_count": 18,
   "metadata": {},
   "outputs": [],
   "source": [
    "exp = ds.attrs['experiment_id']\n",
    "mod = ds.attrs['source_id']"
   ]
  },
  {
   "cell_type": "markdown",
   "metadata": {},
   "source": [
    "An `xarray.Dataset()` may contain arrays of multiple variables. We only have one variable in the dataset, which is near-surface air temperature, `tas`. Below we create an `xarray.DataArray()` object, which takes only one variable, but gives us more flexibility in processing."
   ]
  },
  {
   "cell_type": "code",
   "execution_count": 19,
   "metadata": {},
   "outputs": [],
   "source": [
    "da = ds['tas']"
   ]
  },
  {
   "cell_type": "markdown",
   "metadata": {},
   "source": [
    "#### Spatial aggregation"
   ]
  },
  {
   "cell_type": "markdown",
   "metadata": {},
   "source": [
    "The next step is to aggregate the temperature values spatially (i.e. average over the latitude and longitude dimensions) and compute the global monthly near-surface temperature.\n",
    "\n",
    "A very important consideration however is that the gridded data cells do not all correspond to the same areas. The size covered by each data point varies as a function of latitude. We need to take this into account when averaging. One way to do this is to use the cosine of the latitude as a proxy for the varying sizes. \n",
    "\n",
    "This can be implemented by first calculating weights as a function of the cosine of the latitude, then applying these weights to the data array with the xarray function `weighted()`:"
   ]
  },
  {
   "cell_type": "code",
   "execution_count": 20,
   "metadata": {},
   "outputs": [],
   "source": [
    "weights = np.cos(np.deg2rad(da.lat))\n",
    "weights.name = \"weights\"\n",
    "da_weighted = da.weighted(weights)"
   ]
  },
  {
   "cell_type": "markdown",
   "metadata": {},
   "source": [
    "The next step is then to compute the mean across the latitude and longitude dimensions of the weighted data array with the function `mean()`. The result is a DataArray with one dimension (`time`)."
   ]
  },
  {
   "cell_type": "code",
   "execution_count": 21,
   "metadata": {},
   "outputs": [],
   "source": [
    "da_agg = da_weighted.mean(['lat', 'lon'])"
   ]
  },
  {
   "cell_type": "markdown",
   "metadata": {},
   "source": [
    "#### Temporal aggregation"
   ]
  },
  {
   "cell_type": "markdown",
   "metadata": {},
   "source": [
    "We now aggregate the monthly global near-surface air temperature values to annual global near-surface air temperature values. This operation can be done in two steps: first, all the values for one specific year have to be grouped with the function `groupby()` and second, we can create the average of each group with the function `mean()`.\n",
    "\n",
    "The result is a one-dimensional DataArray. Please note that this operation changes the name of the dimension from `time` to `year`."
   ]
  },
  {
   "cell_type": "code",
   "execution_count": 22,
   "metadata": {},
   "outputs": [],
   "source": [
    "da_yr = da_agg.groupby('time.year').mean()"
   ]
  },
  {
   "cell_type": "markdown",
   "metadata": {},
   "source": [
    "#### Conversion from Kelvin to Celsius"
   ]
  },
  {
   "cell_type": "markdown",
   "metadata": {},
   "source": [
    "The metadata of the original data (before it was stripped during the subsequent processing steps) tells us that the near-surface air temperature data values are in units of Kelvin. We will convert them to degrees Celsius by subtracting 273.15 from the data values. "
   ]
  },
  {
   "cell_type": "code",
   "execution_count": 23,
   "metadata": {},
   "outputs": [],
   "source": [
    "da_yr = da_yr - 273.15"
   ]
  },
  {
   "cell_type": "markdown",
   "metadata": {},
   "source": [
    "#### Create additional data dimensions (to later combine data from multiple models & experiments)"
   ]
  },
  {
   "cell_type": "markdown",
   "metadata": {},
   "source": [
    "Finally, we will create additional dimensions for the model and for the experiment. These we will label with the model and experiment name as taken from the metadata of the original data (see above). These will be useful when we repeat the processes above for all models and experiments, and combine them into one array."
   ]
  },
  {
   "cell_type": "code",
   "execution_count": 24,
   "metadata": {},
   "outputs": [],
   "source": [
    "da_yr = da_yr.assign_coords(model=mod)\n",
    "da_yr = da_yr.expand_dims('model')\n",
    "da_yr = da_yr.assign_coords(experiment=exp)\n",
    "da_yr = da_yr.expand_dims('experiment')"
   ]
  },
  {
   "cell_type": "markdown",
   "metadata": {},
   "source": [
    "## Load and prepare CMIP6 data for all models and experiments"
   ]
  },
  {
   "cell_type": "markdown",
   "metadata": {},
   "source": [
    "To repeat the steps above for all models and all experiments, we will collect all of the commands we have used so far into a function, which we can then apply to a batch of files corresponding to the data from all models and experiments."
   ]
  },
  {
   "cell_type": "code",
   "execution_count": 25,
   "metadata": {},
   "outputs": [],
   "source": [
    "# Function to aggregate in geographical lat lon dimensions\n",
    "\n",
    "def geog_agg(fn):\n",
    "    ds = xr.open_dataset(f'{DATADIR}{fn}')\n",
    "    exp = ds.attrs['experiment_id']\n",
    "    mod = ds.attrs['source_id']\n",
    "    da = ds['tas']\n",
    "    weights = np.cos(np.deg2rad(da.lat))\n",
    "    weights.name = \"weights\"\n",
    "    da_weighted = da.weighted(weights)\n",
    "    da_agg = da_weighted.mean(['lat', 'lon'])\n",
    "    da_yr = da_agg.groupby('time.year').mean()\n",
    "    da_yr = da_yr - 273.15\n",
    "    da_yr = da_yr.assign_coords(model=mod)\n",
    "    da_yr = da_yr.expand_dims('model')\n",
    "    da_yr = da_yr.assign_coords(experiment=exp)\n",
    "    da_yr = da_yr.expand_dims('experiment')\n",
    "    da_yr.to_netcdf(path=f'{DATADIR}cmip6_agg_{exp}_{mod}_{str(da_yr.year[0].values)}.nc')"
   ]
  },
  {
   "cell_type": "markdown",
   "metadata": {},
   "source": [
    "Now we can apply this function to all the extracted NetCDF files. The `try` and `except` clauses ensure that all NetCDF files are attempted, even if some fail to be processed. One reason why some may fail is if the data are labelled differently, e.g. the model *MCM-UA-1-0* has coordinates labelled as \"*latitude*\" and *longitude*\". This differs from the suggested standard, and more commonly applied labels of \"*lat*\" and \"*lon*\". Any that fail will be recorded in a print statement, and these can be processed separately. See [here](https://confluence.ecmwf.int/display/CKB/CMIP6%3A+Global+climate+projections#CMIP6:Globalclimateprojections-QualitycontroloftheCDS-CMIP6subset) more details on the quality control of the CMIP6 datasets on the CDS."
   ]
  },
  {
   "cell_type": "code",
   "execution_count": 26,
   "metadata": {},
   "outputs": [],
   "source": [
    "for i in cmip6_nc:\n",
    "    try:\n",
    "        geog_agg(i)\n",
    "    except: print(f'{i} failed')"
   ]
  },
  {
   "cell_type": "markdown",
   "metadata": {},
   "source": [
    "In the absence of any print statements, we see that all files were successfully processed. \n",
    "\n",
    "We will now combine these processed files into one dataset for the final steps to create a visualisation of near-surface air temperature from the model ensemble."
   ]
  },
  {
   "cell_type": "markdown",
   "metadata": {},
   "source": [
    "If all files have the same coordinates, the function `xarray.open_mfdataset` will merge the data according to the same coordinates."
   ]
  },
  {
   "cell_type": "code",
   "execution_count": 29,
   "metadata": {},
   "outputs": [],
   "source": [
    "data_ds = xr.open_mfdataset(f'{DATADIR}cmip6_agg*.nc')"
   ]
  },
  {
   "cell_type": "markdown",
   "metadata": {},
   "source": [
    "The dataset created by `xarray.open_mfdataset` is by default in the form of \"lazy Dask arrays\". \n",
    "\n",
    "Dask divides arrays into many small pieces, called chunks, each of which is presumed to be small enough to fit into memory. As opposed to eager evaluation, operations on Dask arrays are lazy, i.e. operations queue up a series of tasks mapped over blocks, and no computation is performed until you request values to be computed. For more details, see https://xarray.pydata.org/en/stable/user-guide/dask.html. \n",
    "\n",
    "To facilitate further processing we would need to convert these Dask arrays into in-memory \"eager\" arrays, which we can do by using the `load()` method: "
   ]
  },
  {
   "cell_type": "code",
   "execution_count": 30,
   "metadata": {
    "scrolled": true
   },
   "outputs": [
    {
     "data": {
      "text/html": [
       "<div><svg style=\"position: absolute; width: 0; height: 0; overflow: hidden\">\n",
       "<defs>\n",
       "<symbol id=\"icon-database\" viewBox=\"0 0 32 32\">\n",
       "<path d=\"M16 0c-8.837 0-16 2.239-16 5v4c0 2.761 7.163 5 16 5s16-2.239 16-5v-4c0-2.761-7.163-5-16-5z\"></path>\n",
       "<path d=\"M16 17c-8.837 0-16-2.239-16-5v6c0 2.761 7.163 5 16 5s16-2.239 16-5v-6c0 2.761-7.163 5-16 5z\"></path>\n",
       "<path d=\"M16 26c-8.837 0-16-2.239-16-5v6c0 2.761 7.163 5 16 5s16-2.239 16-5v-6c0 2.761-7.163 5-16 5z\"></path>\n",
       "</symbol>\n",
       "<symbol id=\"icon-file-text2\" viewBox=\"0 0 32 32\">\n",
       "<path d=\"M28.681 7.159c-0.694-0.947-1.662-2.053-2.724-3.116s-2.169-2.030-3.116-2.724c-1.612-1.182-2.393-1.319-2.841-1.319h-15.5c-1.378 0-2.5 1.121-2.5 2.5v27c0 1.378 1.122 2.5 2.5 2.5h23c1.378 0 2.5-1.122 2.5-2.5v-19.5c0-0.448-0.137-1.23-1.319-2.841zM24.543 5.457c0.959 0.959 1.712 1.825 2.268 2.543h-4.811v-4.811c0.718 0.556 1.584 1.309 2.543 2.268zM28 29.5c0 0.271-0.229 0.5-0.5 0.5h-23c-0.271 0-0.5-0.229-0.5-0.5v-27c0-0.271 0.229-0.5 0.5-0.5 0 0 15.499-0 15.5 0v7c0 0.552 0.448 1 1 1h7v19.5z\"></path>\n",
       "<path d=\"M23 26h-14c-0.552 0-1-0.448-1-1s0.448-1 1-1h14c0.552 0 1 0.448 1 1s-0.448 1-1 1z\"></path>\n",
       "<path d=\"M23 22h-14c-0.552 0-1-0.448-1-1s0.448-1 1-1h14c0.552 0 1 0.448 1 1s-0.448 1-1 1z\"></path>\n",
       "<path d=\"M23 18h-14c-0.552 0-1-0.448-1-1s0.448-1 1-1h14c0.552 0 1 0.448 1 1s-0.448 1-1 1z\"></path>\n",
       "</symbol>\n",
       "</defs>\n",
       "</svg>\n",
       "<style>/* CSS stylesheet for displaying xarray objects in jupyterlab.\n",
       " *\n",
       " */\n",
       "\n",
       ":root {\n",
       "  --xr-font-color0: var(--jp-content-font-color0, rgba(0, 0, 0, 1));\n",
       "  --xr-font-color2: var(--jp-content-font-color2, rgba(0, 0, 0, 0.54));\n",
       "  --xr-font-color3: var(--jp-content-font-color3, rgba(0, 0, 0, 0.38));\n",
       "  --xr-border-color: var(--jp-border-color2, #e0e0e0);\n",
       "  --xr-disabled-color: var(--jp-layout-color3, #bdbdbd);\n",
       "  --xr-background-color: var(--jp-layout-color0, white);\n",
       "  --xr-background-color-row-even: var(--jp-layout-color1, white);\n",
       "  --xr-background-color-row-odd: var(--jp-layout-color2, #eeeeee);\n",
       "}\n",
       "\n",
       "html[theme=dark],\n",
       "body.vscode-dark {\n",
       "  --xr-font-color0: rgba(255, 255, 255, 1);\n",
       "  --xr-font-color2: rgba(255, 255, 255, 0.54);\n",
       "  --xr-font-color3: rgba(255, 255, 255, 0.38);\n",
       "  --xr-border-color: #1F1F1F;\n",
       "  --xr-disabled-color: #515151;\n",
       "  --xr-background-color: #111111;\n",
       "  --xr-background-color-row-even: #111111;\n",
       "  --xr-background-color-row-odd: #313131;\n",
       "}\n",
       "\n",
       ".xr-wrap {\n",
       "  display: block !important;\n",
       "  min-width: 300px;\n",
       "  max-width: 700px;\n",
       "}\n",
       "\n",
       ".xr-text-repr-fallback {\n",
       "  /* fallback to plain text repr when CSS is not injected (untrusted notebook) */\n",
       "  display: none;\n",
       "}\n",
       "\n",
       ".xr-header {\n",
       "  padding-top: 6px;\n",
       "  padding-bottom: 6px;\n",
       "  margin-bottom: 4px;\n",
       "  border-bottom: solid 1px var(--xr-border-color);\n",
       "}\n",
       "\n",
       ".xr-header > div,\n",
       ".xr-header > ul {\n",
       "  display: inline;\n",
       "  margin-top: 0;\n",
       "  margin-bottom: 0;\n",
       "}\n",
       "\n",
       ".xr-obj-type,\n",
       ".xr-array-name {\n",
       "  margin-left: 2px;\n",
       "  margin-right: 10px;\n",
       "}\n",
       "\n",
       ".xr-obj-type {\n",
       "  color: var(--xr-font-color2);\n",
       "}\n",
       "\n",
       ".xr-sections {\n",
       "  padding-left: 0 !important;\n",
       "  display: grid;\n",
       "  grid-template-columns: 150px auto auto 1fr 20px 20px;\n",
       "}\n",
       "\n",
       ".xr-section-item {\n",
       "  display: contents;\n",
       "}\n",
       "\n",
       ".xr-section-item input {\n",
       "  display: none;\n",
       "}\n",
       "\n",
       ".xr-section-item input + label {\n",
       "  color: var(--xr-disabled-color);\n",
       "}\n",
       "\n",
       ".xr-section-item input:enabled + label {\n",
       "  cursor: pointer;\n",
       "  color: var(--xr-font-color2);\n",
       "}\n",
       "\n",
       ".xr-section-item input:enabled + label:hover {\n",
       "  color: var(--xr-font-color0);\n",
       "}\n",
       "\n",
       ".xr-section-summary {\n",
       "  grid-column: 1;\n",
       "  color: var(--xr-font-color2);\n",
       "  font-weight: 500;\n",
       "}\n",
       "\n",
       ".xr-section-summary > span {\n",
       "  display: inline-block;\n",
       "  padding-left: 0.5em;\n",
       "}\n",
       "\n",
       ".xr-section-summary-in:disabled + label {\n",
       "  color: var(--xr-font-color2);\n",
       "}\n",
       "\n",
       ".xr-section-summary-in + label:before {\n",
       "  display: inline-block;\n",
       "  content: '►';\n",
       "  font-size: 11px;\n",
       "  width: 15px;\n",
       "  text-align: center;\n",
       "}\n",
       "\n",
       ".xr-section-summary-in:disabled + label:before {\n",
       "  color: var(--xr-disabled-color);\n",
       "}\n",
       "\n",
       ".xr-section-summary-in:checked + label:before {\n",
       "  content: '▼';\n",
       "}\n",
       "\n",
       ".xr-section-summary-in:checked + label > span {\n",
       "  display: none;\n",
       "}\n",
       "\n",
       ".xr-section-summary,\n",
       ".xr-section-inline-details {\n",
       "  padding-top: 4px;\n",
       "  padding-bottom: 4px;\n",
       "}\n",
       "\n",
       ".xr-section-inline-details {\n",
       "  grid-column: 2 / -1;\n",
       "}\n",
       "\n",
       ".xr-section-details {\n",
       "  display: none;\n",
       "  grid-column: 1 / -1;\n",
       "  margin-bottom: 5px;\n",
       "}\n",
       "\n",
       ".xr-section-summary-in:checked ~ .xr-section-details {\n",
       "  display: contents;\n",
       "}\n",
       "\n",
       ".xr-array-wrap {\n",
       "  grid-column: 1 / -1;\n",
       "  display: grid;\n",
       "  grid-template-columns: 20px auto;\n",
       "}\n",
       "\n",
       ".xr-array-wrap > label {\n",
       "  grid-column: 1;\n",
       "  vertical-align: top;\n",
       "}\n",
       "\n",
       ".xr-preview {\n",
       "  color: var(--xr-font-color3);\n",
       "}\n",
       "\n",
       ".xr-array-preview,\n",
       ".xr-array-data {\n",
       "  padding: 0 5px !important;\n",
       "  grid-column: 2;\n",
       "}\n",
       "\n",
       ".xr-array-data,\n",
       ".xr-array-in:checked ~ .xr-array-preview {\n",
       "  display: none;\n",
       "}\n",
       "\n",
       ".xr-array-in:checked ~ .xr-array-data,\n",
       ".xr-array-preview {\n",
       "  display: inline-block;\n",
       "}\n",
       "\n",
       ".xr-dim-list {\n",
       "  display: inline-block !important;\n",
       "  list-style: none;\n",
       "  padding: 0 !important;\n",
       "  margin: 0;\n",
       "}\n",
       "\n",
       ".xr-dim-list li {\n",
       "  display: inline-block;\n",
       "  padding: 0;\n",
       "  margin: 0;\n",
       "}\n",
       "\n",
       ".xr-dim-list:before {\n",
       "  content: '(';\n",
       "}\n",
       "\n",
       ".xr-dim-list:after {\n",
       "  content: ')';\n",
       "}\n",
       "\n",
       ".xr-dim-list li:not(:last-child):after {\n",
       "  content: ',';\n",
       "  padding-right: 5px;\n",
       "}\n",
       "\n",
       ".xr-has-index {\n",
       "  font-weight: bold;\n",
       "}\n",
       "\n",
       ".xr-var-list,\n",
       ".xr-var-item {\n",
       "  display: contents;\n",
       "}\n",
       "\n",
       ".xr-var-item > div,\n",
       ".xr-var-item label,\n",
       ".xr-var-item > .xr-var-name span {\n",
       "  background-color: var(--xr-background-color-row-even);\n",
       "  margin-bottom: 0;\n",
       "}\n",
       "\n",
       ".xr-var-item > .xr-var-name:hover span {\n",
       "  padding-right: 5px;\n",
       "}\n",
       "\n",
       ".xr-var-list > li:nth-child(odd) > div,\n",
       ".xr-var-list > li:nth-child(odd) > label,\n",
       ".xr-var-list > li:nth-child(odd) > .xr-var-name span {\n",
       "  background-color: var(--xr-background-color-row-odd);\n",
       "}\n",
       "\n",
       ".xr-var-name {\n",
       "  grid-column: 1;\n",
       "}\n",
       "\n",
       ".xr-var-dims {\n",
       "  grid-column: 2;\n",
       "}\n",
       "\n",
       ".xr-var-dtype {\n",
       "  grid-column: 3;\n",
       "  text-align: right;\n",
       "  color: var(--xr-font-color2);\n",
       "}\n",
       "\n",
       ".xr-var-preview {\n",
       "  grid-column: 4;\n",
       "}\n",
       "\n",
       ".xr-var-name,\n",
       ".xr-var-dims,\n",
       ".xr-var-dtype,\n",
       ".xr-preview,\n",
       ".xr-attrs dt {\n",
       "  white-space: nowrap;\n",
       "  overflow: hidden;\n",
       "  text-overflow: ellipsis;\n",
       "  padding-right: 10px;\n",
       "}\n",
       "\n",
       ".xr-var-name:hover,\n",
       ".xr-var-dims:hover,\n",
       ".xr-var-dtype:hover,\n",
       ".xr-attrs dt:hover {\n",
       "  overflow: visible;\n",
       "  width: auto;\n",
       "  z-index: 1;\n",
       "}\n",
       "\n",
       ".xr-var-attrs,\n",
       ".xr-var-data {\n",
       "  display: none;\n",
       "  background-color: var(--xr-background-color) !important;\n",
       "  padding-bottom: 5px !important;\n",
       "}\n",
       "\n",
       ".xr-var-attrs-in:checked ~ .xr-var-attrs,\n",
       ".xr-var-data-in:checked ~ .xr-var-data {\n",
       "  display: block;\n",
       "}\n",
       "\n",
       ".xr-var-data > table {\n",
       "  float: right;\n",
       "}\n",
       "\n",
       ".xr-var-name span,\n",
       ".xr-var-data,\n",
       ".xr-attrs {\n",
       "  padding-left: 25px !important;\n",
       "}\n",
       "\n",
       ".xr-attrs,\n",
       ".xr-var-attrs,\n",
       ".xr-var-data {\n",
       "  grid-column: 1 / -1;\n",
       "}\n",
       "\n",
       "dl.xr-attrs {\n",
       "  padding: 0;\n",
       "  margin: 0;\n",
       "  display: grid;\n",
       "  grid-template-columns: 125px auto;\n",
       "}\n",
       "\n",
       ".xr-attrs dt,\n",
       ".xr-attrs dd {\n",
       "  padding: 0;\n",
       "  margin: 0;\n",
       "  float: left;\n",
       "  padding-right: 10px;\n",
       "  width: auto;\n",
       "}\n",
       "\n",
       ".xr-attrs dt {\n",
       "  font-weight: normal;\n",
       "  grid-column: 1;\n",
       "}\n",
       "\n",
       ".xr-attrs dt:hover span {\n",
       "  display: inline-block;\n",
       "  background: var(--xr-background-color);\n",
       "  padding-right: 10px;\n",
       "}\n",
       "\n",
       ".xr-attrs dd {\n",
       "  grid-column: 2;\n",
       "  white-space: pre-wrap;\n",
       "  word-break: break-all;\n",
       "}\n",
       "\n",
       ".xr-icon-database,\n",
       ".xr-icon-file-text2 {\n",
       "  display: inline-block;\n",
       "  vertical-align: middle;\n",
       "  width: 1em;\n",
       "  height: 1.5em !important;\n",
       "  stroke-width: 0;\n",
       "  stroke: currentColor;\n",
       "  fill: currentColor;\n",
       "}\n",
       "</style><pre class='xr-text-repr-fallback'>&lt;xarray.Dataset&gt;\n",
       "Dimensions:     (year: 251, model: 7, experiment: 4)\n",
       "Coordinates:\n",
       "  * year        (year) int64 1850 1851 1852 1853 1854 ... 2097 2098 2099 2100\n",
       "    height      (model) float64 1.5 2.0 2.0 2.0 2.0 2.0 1.5\n",
       "  * model       (model) object &#x27;HadGEM3-GC31-LL&#x27; &#x27;INM-CM4-8&#x27; ... &#x27;UKESM1-0-LL&#x27;\n",
       "  * experiment  (experiment) object &#x27;historical&#x27; &#x27;ssp126&#x27; &#x27;ssp245&#x27; &#x27;ssp585&#x27;\n",
       "Data variables:\n",
       "    tas         (experiment, model, year) float64 13.75 13.62 ... 20.48 20.63</pre><div class='xr-wrap' style='display:none'><div class='xr-header'><div class='xr-obj-type'>xarray.Dataset</div></div><ul class='xr-sections'><li class='xr-section-item'><input id='section-7210d041-fb0d-460e-b406-93e78f944f6c' class='xr-section-summary-in' type='checkbox' disabled ><label for='section-7210d041-fb0d-460e-b406-93e78f944f6c' class='xr-section-summary'  title='Expand/collapse section'>Dimensions:</label><div class='xr-section-inline-details'><ul class='xr-dim-list'><li><span class='xr-has-index'>year</span>: 251</li><li><span class='xr-has-index'>model</span>: 7</li><li><span class='xr-has-index'>experiment</span>: 4</li></ul></div><div class='xr-section-details'></div></li><li class='xr-section-item'><input id='section-fff99b50-a135-4107-a7df-4fc18dea6bf4' class='xr-section-summary-in' type='checkbox'  checked><label for='section-fff99b50-a135-4107-a7df-4fc18dea6bf4' class='xr-section-summary' >Coordinates: <span>(4)</span></label><div class='xr-section-inline-details'></div><div class='xr-section-details'><ul class='xr-var-list'><li class='xr-var-item'><div class='xr-var-name'><span class='xr-has-index'>year</span></div><div class='xr-var-dims'>(year)</div><div class='xr-var-dtype'>int64</div><div class='xr-var-preview xr-preview'>1850 1851 1852 ... 2098 2099 2100</div><input id='attrs-ee15cfa2-53c1-4c0c-8475-c90088d35cbe' class='xr-var-attrs-in' type='checkbox' disabled><label for='attrs-ee15cfa2-53c1-4c0c-8475-c90088d35cbe' title='Show/Hide attributes'><svg class='icon xr-icon-file-text2'><use xlink:href='#icon-file-text2'></use></svg></label><input id='data-1b3b0815-4c1b-4107-b154-412ef50263a8' class='xr-var-data-in' type='checkbox'><label for='data-1b3b0815-4c1b-4107-b154-412ef50263a8' title='Show/Hide data repr'><svg class='icon xr-icon-database'><use xlink:href='#icon-database'></use></svg></label><div class='xr-var-attrs'><dl class='xr-attrs'></dl></div><div class='xr-var-data'><pre>array([1850, 1851, 1852, ..., 2098, 2099, 2100], dtype=int64)</pre></div></li><li class='xr-var-item'><div class='xr-var-name'><span>height</span></div><div class='xr-var-dims'>(model)</div><div class='xr-var-dtype'>float64</div><div class='xr-var-preview xr-preview'>1.5 2.0 2.0 2.0 2.0 2.0 1.5</div><input id='attrs-928aadec-2b79-435c-8607-4611800f13da' class='xr-var-attrs-in' type='checkbox' disabled><label for='attrs-928aadec-2b79-435c-8607-4611800f13da' title='Show/Hide attributes'><svg class='icon xr-icon-file-text2'><use xlink:href='#icon-file-text2'></use></svg></label><input id='data-d33ae3c6-7096-4700-82cb-3d53a6288e96' class='xr-var-data-in' type='checkbox'><label for='data-d33ae3c6-7096-4700-82cb-3d53a6288e96' title='Show/Hide data repr'><svg class='icon xr-icon-database'><use xlink:href='#icon-database'></use></svg></label><div class='xr-var-attrs'><dl class='xr-attrs'></dl></div><div class='xr-var-data'><pre>array([1.5, 2. , 2. , 2. , 2. , 2. , 1.5])</pre></div></li><li class='xr-var-item'><div class='xr-var-name'><span class='xr-has-index'>model</span></div><div class='xr-var-dims'>(model)</div><div class='xr-var-dtype'>object</div><div class='xr-var-preview xr-preview'>&#x27;HadGEM3-GC31-LL&#x27; ... &#x27;UKESM1-0-LL&#x27;</div><input id='attrs-16d77baf-03be-45ed-9bbc-ec71951a9a3f' class='xr-var-attrs-in' type='checkbox' disabled><label for='attrs-16d77baf-03be-45ed-9bbc-ec71951a9a3f' title='Show/Hide attributes'><svg class='icon xr-icon-file-text2'><use xlink:href='#icon-file-text2'></use></svg></label><input id='data-e6448dee-636f-4f3e-a66b-1257690066b5' class='xr-var-data-in' type='checkbox'><label for='data-e6448dee-636f-4f3e-a66b-1257690066b5' title='Show/Hide data repr'><svg class='icon xr-icon-database'><use xlink:href='#icon-database'></use></svg></label><div class='xr-var-attrs'><dl class='xr-attrs'></dl></div><div class='xr-var-data'><pre>array([&#x27;HadGEM3-GC31-LL&#x27;, &#x27;INM-CM4-8&#x27;, &#x27;INM-CM5-0&#x27;, &#x27;IPSL-CM6A-LR&#x27;,\n",
       "       &#x27;MIROC-ES2L&#x27;, &#x27;MPI-ESM1-2-LR&#x27;, &#x27;UKESM1-0-LL&#x27;], dtype=object)</pre></div></li><li class='xr-var-item'><div class='xr-var-name'><span class='xr-has-index'>experiment</span></div><div class='xr-var-dims'>(experiment)</div><div class='xr-var-dtype'>object</div><div class='xr-var-preview xr-preview'>&#x27;historical&#x27; &#x27;ssp126&#x27; ... &#x27;ssp585&#x27;</div><input id='attrs-dd51790c-3656-4a48-8636-3c36d521fb1d' class='xr-var-attrs-in' type='checkbox' disabled><label for='attrs-dd51790c-3656-4a48-8636-3c36d521fb1d' title='Show/Hide attributes'><svg class='icon xr-icon-file-text2'><use xlink:href='#icon-file-text2'></use></svg></label><input id='data-d6857c78-b83a-40d6-b42a-fae79b92fbef' class='xr-var-data-in' type='checkbox'><label for='data-d6857c78-b83a-40d6-b42a-fae79b92fbef' title='Show/Hide data repr'><svg class='icon xr-icon-database'><use xlink:href='#icon-database'></use></svg></label><div class='xr-var-attrs'><dl class='xr-attrs'></dl></div><div class='xr-var-data'><pre>array([&#x27;historical&#x27;, &#x27;ssp126&#x27;, &#x27;ssp245&#x27;, &#x27;ssp585&#x27;], dtype=object)</pre></div></li></ul></div></li><li class='xr-section-item'><input id='section-6fa65b73-5a2e-419f-a7ed-ed2e22bba1e5' class='xr-section-summary-in' type='checkbox'  checked><label for='section-6fa65b73-5a2e-419f-a7ed-ed2e22bba1e5' class='xr-section-summary' >Data variables: <span>(1)</span></label><div class='xr-section-inline-details'></div><div class='xr-section-details'><ul class='xr-var-list'><li class='xr-var-item'><div class='xr-var-name'><span>tas</span></div><div class='xr-var-dims'>(experiment, model, year)</div><div class='xr-var-dtype'>float64</div><div class='xr-var-preview xr-preview'>13.75 13.62 13.7 ... 20.48 20.63</div><input id='attrs-801b61d2-cefc-4b7a-8beb-f979f63f087e' class='xr-var-attrs-in' type='checkbox' disabled><label for='attrs-801b61d2-cefc-4b7a-8beb-f979f63f087e' title='Show/Hide attributes'><svg class='icon xr-icon-file-text2'><use xlink:href='#icon-file-text2'></use></svg></label><input id='data-a1eb5b28-4e01-4e40-913a-e508e349b762' class='xr-var-data-in' type='checkbox'><label for='data-a1eb5b28-4e01-4e40-913a-e508e349b762' title='Show/Hide data repr'><svg class='icon xr-icon-database'><use xlink:href='#icon-database'></use></svg></label><div class='xr-var-attrs'><dl class='xr-attrs'></dl></div><div class='xr-var-data'><pre>array([[[13.75399058, 13.61972281, 13.69983418, ...,         nan,\n",
       "                 nan,         nan],\n",
       "        [13.58175664, 13.36504047, 13.38635866, ...,         nan,\n",
       "                 nan,         nan],\n",
       "        [13.42228756, 13.19990532, 13.16567923, ...,         nan,\n",
       "                 nan,         nan],\n",
       "        ...,\n",
       "        [15.15067915, 15.10892567, 15.03257159, ...,         nan,\n",
       "                 nan,         nan],\n",
       "        [13.65744156, 13.45913109, 13.46609431, ...,         nan,\n",
       "                 nan,         nan],\n",
       "        [13.54177956, 13.33535187, 13.43955638, ...,         nan,\n",
       "                 nan,         nan]],\n",
       "\n",
       "       [[        nan,         nan,         nan, ..., 16.29245683,\n",
       "         16.36082827, 16.33036985],\n",
       "        [        nan,         nan,         nan, ..., 14.76511278,\n",
       "         14.71776501, 14.78597346],\n",
       "        [        nan,         nan,         nan, ..., 14.57112824,\n",
       "         14.57076709, 14.51991082],\n",
       "...\n",
       "        [        nan,         nan,         nan, ..., 17.47279885,\n",
       "         17.79239638, 17.58084508],\n",
       "        [        nan,         nan,         nan, ..., 16.0461109 ,\n",
       "         16.01744213, 16.02138782],\n",
       "        [        nan,         nan,         nan, ..., 17.62745672,\n",
       "         17.5299521 , 17.59425743]],\n",
       "\n",
       "       [[        nan,         nan,         nan, ..., 20.39295861,\n",
       "         20.52182487, 20.57955248],\n",
       "        [        nan,         nan,         nan, ..., 17.39707069,\n",
       "         17.3183903 , 17.38916422],\n",
       "        [        nan,         nan,         nan, ..., 17.16603799,\n",
       "         17.24878839, 17.27704339],\n",
       "        ...,\n",
       "        [        nan,         nan,         nan, ..., 19.3107107 ,\n",
       "         19.39395087, 19.69432393],\n",
       "        [        nan,         nan,         nan, ..., 18.06633781,\n",
       "         17.98003727, 17.73531158],\n",
       "        [        nan,         nan,         nan, ..., 20.65340704,\n",
       "         20.48425935, 20.63318635]]])</pre></div></li></ul></div></li><li class='xr-section-item'><input id='section-82084eef-2c61-4462-b7a4-affd3165e974' class='xr-section-summary-in' type='checkbox' disabled ><label for='section-82084eef-2c61-4462-b7a4-affd3165e974' class='xr-section-summary'  title='Expand/collapse section'>Attributes: <span>(0)</span></label><div class='xr-section-inline-details'></div><div class='xr-section-details'><dl class='xr-attrs'></dl></div></li></ul></div></div>"
      ],
      "text/plain": [
       "<xarray.Dataset>\n",
       "Dimensions:     (year: 251, model: 7, experiment: 4)\n",
       "Coordinates:\n",
       "  * year        (year) int64 1850 1851 1852 1853 1854 ... 2097 2098 2099 2100\n",
       "    height      (model) float64 1.5 2.0 2.0 2.0 2.0 2.0 1.5\n",
       "  * model       (model) object 'HadGEM3-GC31-LL' 'INM-CM4-8' ... 'UKESM1-0-LL'\n",
       "  * experiment  (experiment) object 'historical' 'ssp126' 'ssp245' 'ssp585'\n",
       "Data variables:\n",
       "    tas         (experiment, model, year) float64 13.75 13.62 ... 20.48 20.63"
      ]
     },
     "execution_count": 30,
     "metadata": {},
     "output_type": "execute_result"
    }
   ],
   "source": [
    "data_ds.load()"
   ]
  },
  {
   "cell_type": "markdown",
   "metadata": {},
   "source": [
    "Finally, we create an Xarray DataArray object for the near-surface air temperature variable, 'tas':"
   ]
  },
  {
   "cell_type": "code",
   "execution_count": 31,
   "metadata": {},
   "outputs": [],
   "source": [
    "data = data_ds['tas']"
   ]
  },
  {
   "cell_type": "markdown",
   "metadata": {},
   "source": [
    "## Visualize the CMIP6 annual global average temperature between 1850 to 2100"
   ]
  },
  {
   "cell_type": "markdown",
   "metadata": {},
   "source": [
    "We will now create a plot of the model ensemble of near-surface air temperature for the historical and future periods, according to the three selected scenarios."
   ]
  },
  {
   "cell_type": "markdown",
   "metadata": {},
   "source": [
    "#### Calculate quantiles for model ensemble"
   ]
  },
  {
   "cell_type": "markdown",
   "metadata": {},
   "source": [
    "Rather than plotting the data from all models, we will instead view the range of values as given by quantiles, including the 10th (near to lower limit), the 50th (mid-range) and the 90th (near to upper limit) quantiles:"
   ]
  },
  {
   "cell_type": "code",
   "execution_count": null,
   "metadata": {},
   "outputs": [],
   "source": [
    "data_90 = data.quantile(0.9, dim='model')\n",
    "data_10 = data.quantile(0.1, dim='model')\n",
    "data_50 = data.quantile(0.5, dim='model')"
   ]
  },
  {
   "cell_type": "markdown",
   "metadata": {},
   "source": [
    "> **Note:** The warning message is due to the presence of NaN (Not a Number) data given that the historical and scenario datasets represent only parts (historical and future respectively) of the entire time series. As these two datasets have been merged, NaN values will exist (e.g. there will be no data for the historical experiment for the future period)."
   ]
  },
  {
   "cell_type": "markdown",
   "metadata": {},
   "source": [
    "#### View time-series"
   ]
  },
  {
   "cell_type": "markdown",
   "metadata": {},
   "source": [
    "Finally we will visualise this data in one time-series plot. We will use the matplotlib function `plot()`. The dimension `year` will be the x-axis and the near-surface air temperature values in degrees Celsius will be the y-axis. \n",
    "\n",
    "The plotting function below has four main parts:\n",
    "* **Initiate the plot**: initiate a matplotlib plot with `plt.subplots()`\n",
    "* **Plot the time-series**: plot the data for each experiment, including the historical experiment and three scenarios with the `plot()` function\n",
    "* **Set axes limits, labels, title and legend**: Define title and axes labels, and add additional items to the plot, such as legend or gridlines\n",
    "* **Save the figure**: Save the figure as a PNG file with the `matplotlib.pyplot.savefig()` function"
   ]
  },
  {
   "cell_type": "code",
   "execution_count": 33,
   "metadata": {
    "scrolled": true
   },
   "outputs": [
    {
     "data": {
      "image/png": "[encoded data removed]",
      "text/plain": [
       "<Figure size 1152x576 with 1 Axes>"
      ]
     },
     "metadata": {
      "needs_background": "light"
     },
     "output_type": "display_data"
    }
   ],
   "source": [
    "fig, ax = plt.subplots(1, 1, figsize = (16, 8))\n",
    "\n",
    "colours = ['black','red','green','blue']\n",
    "for i in np.arange(len(experiments)):\n",
    "    ax.plot(data_50.year, data_50[i,:], color=f'{colours[i]}', \n",
    "            label=f'{data_50.experiment[i].values} 50th quantile')\n",
    "    ax.fill_between(data_50.year, data_90[i,:], data_10[i,:], alpha=0.1, color=f'{colours[i]}', \n",
    "            label=f'{data_50.experiment[i].values} 10th and 90th quantile range')\n",
    "\n",
    "ax.set_xlim(1850,2100)\n",
    "ax.set_title('CMIP6 annual global average temperature (1850 to 2100)')\n",
    "ax.set_ylabel('tam (Celsius)')\n",
    "ax.set_xlabel('year')\n",
    "handles, labels = ax.get_legend_handles_labels()\n",
    "ax.legend(handles, labels)\n",
    "ax.grid(linestyle='--')\n",
    "\n",
    "fig.savefig(f'{DATADIR}CMIP6_annual_global_tas.png')"
   ]
  },
  {
   "cell_type": "markdown",
   "metadata": {},
   "source": [
    "The visualization of the `CMIP6 annual global average temperature (1850 to 2100)` above shows that the global average temperature was more or less stable in the pre-industrial phase, but steadily increases since the 1990s. It shows further that, depending on the SSP scenario, the course and increase of the global annual temperature differs. While for the best case `SSP1-2.6` scenario, the global annual temperature could stabilize around 15 degC, in the worst case `SSP5-8.5` scenario, the global annual temperature could increase to above 20 degC."
   ]
  },
  {
   "cell_type": "markdown",
   "metadata": {},
   "source": [
    "<hr>"
   ]
  },
  {
   "cell_type": "markdown",
   "metadata": {},
   "source": [
    "<p></p>\n",
    "<span style='float:right'><p style=\\\"text-align:right;\\\">This project is licensed under <a href=\"./LICENSE\">APACHE License 2.0</a>. | <a href=\\\"https://github.com/ecmwf-projects/copernicus-training\">View on GitHub</a></span>"
   ]
  }
 ],
 "metadata": {
  "kernelspec": {
   "display_name": "Python 3 (ipykernel)",
   "language": "python",
   "name": "python3"
  },
  "language_info": {
   "codemirror_mode": {
    "name": "ipython",
    "version": 3
   },
   "file_extension": ".py",
   "mimetype": "text/x-python",
   "name": "python",
   "nbconvert_exporter": "python",
   "pygments_lexer": "ipython3",
   "version": "3.9.7"
  }
 },
 "nbformat": 4,
 "nbformat_minor": 4
}
