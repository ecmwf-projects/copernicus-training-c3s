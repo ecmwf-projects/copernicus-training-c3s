{
 "cells": [
  {
   "cell_type": "markdown",
   "metadata": {
    "papermill": {
     "duration": 0.08321,
     "end_time": "2022-03-14T17:49:44.888825",
     "exception": false,
     "start_time": "2022-03-14T17:49:44.805615",
     "status": "completed"
    },
    "tags": []
   },
   "source": [
    "![logo](./img/LogoLine_horizon_C3S.png)"
   ]
  },
  {
   "cell_type": "markdown",
   "metadata": {
    "papermill": {
     "duration": 0.081751,
     "end_time": "2022-03-14T17:49:45.053733",
     "exception": false,
     "start_time": "2022-03-14T17:49:44.971982",
     "status": "completed"
    },
    "tags": []
   },
   "source": [
    "<br>"
   ]
  },
  {
   "cell_type": "markdown",
   "metadata": {
    "papermill": {
     "duration": 0.082814,
     "end_time": "2022-03-14T17:49:45.21891",
     "exception": false,
     "start_time": "2022-03-14T17:49:45.136096",
     "status": "completed"
    },
    "tags": []
   },
   "source": [
    "# Seasonal Forecast Anomalies"
   ]
  },
  {
   "cell_type": "markdown",
   "metadata": {
    "papermill": {
     "duration": 0.080985,
     "end_time": "2022-03-14T17:49:45.381362",
     "exception": false,
     "start_time": "2022-03-14T17:49:45.300377",
     "status": "completed"
    },
    "tags": []
   },
   "source": [
    "### About"
   ]
  },
  {
   "cell_type": "markdown",
   "metadata": {
    "papermill": {
     "duration": 0.081266,
     "end_time": "2022-03-14T17:49:45.544033",
     "exception": false,
     "start_time": "2022-03-14T17:49:45.462767",
     "status": "completed"
    },
    "tags": []
   },
   "source": [
    "This notebook provides a practical introduction to calculating seasonal forecast anomalies with data from the Copernicus Climate Change Service (C3S). C3S seasonal forecast products are based on data from several state-of-the-art seasonal prediction systems. In this tutorial we shall focus on the [ECMWF SEAS5 model](https://confluence.ecmwf.int/display/CKB/Description+of+SEAS5+C3S+contribution), which is one of the forecasting systems available through C3S.\n",
    "\n",
    "The tutorial will demonstrate how to access real-time forecast data of total precipitation, with a forecast start date in May 2021 and 6 monthly lead times (up to October 2021). Hindcast data for the same start date and lead-time months in the reference period 1993 to 2016 will also be downloaded. The tutorial will then show how to extract a subset area over South Asia for both the forecast and hindcast data. The climate mean for the reference period will be computed and this reference mean will be subtracted from the real-time forecast data to derive monthly anomalies. These will be visualised as both spatial maps and time series. Finally, 3-monthly anomalies will be calculated and visualised in an interactive plot, as a demonstration of how to reproduce similar [charts available through C3S](https://climate.copernicus.eu/charts/c3s_seasonal/)."
   ]
  },
  {
   "cell_type": "markdown",
   "metadata": {
    "papermill": {
     "duration": 0.080595,
     "end_time": "2022-03-14T17:49:45.706112",
     "exception": false,
     "start_time": "2022-03-14T17:49:45.625517",
     "status": "completed"
    },
    "tags": []
   },
   "source": [
    "\n",
    "The notebook has the following outline:\n",
    "* 1 - Download data from the CDS\n",
    "* 2 - Hindcast data processing: calculate the reference climate mean\n",
    "* 3 - Real-time forecasts: calculate seasonal forecast anomalies\n",
    "* 4 - Visualize seasonal forecast monthly anomalies for a geographical subregion\n",
    "  * 4.1 - Spatial maps\n",
    "  * 4.2 - Time series of regional averages\n",
    "* 5 - Reproduce C3S graphical products: compute 3-month anomalies"
   ]
  },
  {
   "cell_type": "markdown",
   "metadata": {},
   "source": [
    "<br>"
   ]
  },
  {
   "cell_type": "markdown",
   "metadata": {},
   "source": [
    "<div class=\"alert alert-block alert-success\">\n",
    "<b>NOTE</b>: <br>\n",
    "    <a href=\"https://cds.climate.copernicus.eu/cdsapp#!/dataset/seasonal-postprocessed-single-levels\">Precomputed anomalies are also available through the CDS</a>. Note these may be slightly different due to minor differences in the way they are computed (e.g. months of constant length, 30 days)  and also due to GRIB packing discretisation. <a href=\"https://confluence.ecmwf.int/display/UDOC/Why+are+there+sometimes+small+negative+precipitation+accumulations+-+ecCodes+GRIB+FAQ\">See here for more detials.</a></div>"
   ]
  },
  {
   "cell_type": "markdown",
   "metadata": {
    "papermill": {
     "duration": 0.080906,
     "end_time": "2022-03-14T17:49:45.869012",
     "exception": false,
     "start_time": "2022-03-14T17:49:45.788106",
     "status": "completed"
    },
    "tags": []
   },
   "source": [
    "Please see here the full documentation of the [C3S Seasonal Forecast Datasets](https://confluence.ecmwf.int/display/CKB/C3S+Seasonal+Forecasts%3A+datasets+documentation). This notebook introduces you to the [seasonal forecast monthly statistics](https://cds.climate.copernicus.eu/cdsapp#!/dataset/seasonal-monthly-single-levels?tab=overview) datasets on single levels (as opposed to multiple levels in the atmosphere)."
   ]
  },
  {
   "cell_type": "markdown",
   "metadata": {
    "papermill": {
     "duration": 0.082989,
     "end_time": "2022-03-14T17:49:46.192983",
     "exception": false,
     "start_time": "2022-03-14T17:49:46.109994",
     "status": "completed"
    },
    "tags": []
   },
   "source": [
    "<style>\n",
    "td, th {\n",
    "   border: 1px solid white;\n",
    "   border-collapse: collapse;\n",
    "}\n",
    "</style>\n",
    "<table align=\"left\">\n",
    "  <tr>\n",
    "    <th>Run the tutorial via free cloud platforms: </th>\n",
    "    <th><a href=\"https://mybinder.org/v2/gh/ecmwf-projects/copernicus-training-c3s/master?labpath=06_Seasonal_Forecast_Anomalies.ipynb\">\n",
    "        <img src = \"https://mybinder.org/badge.svg\" alt = \"Binder\"></th>\n",
    "    <th><a href=\"https://kaggle.com/kernels/welcome?src=https://github.com/ecmwf-projects/copernicus-training-c3s/blob/master/06_Seasonal_Forecast_Anomalies.ipynb\">\n",
    "        <img src = \"https://kaggle.com/static/images/open-in-kaggle.svg\" alt = \"Kaggle\"></th>\n",
    "    <th><a href=\"https://colab.research.google.com/github/ecmwf-projects/copernicus-training-c3s/blob/master/06_Seasonal_Forecast_Anomalies.ipynb\">\n",
    "        <img src = \"https://colab.research.google.com/assets/colab-badge.svg\" alt = \"Colab\"></th>\n",
    "  </tr>\n",
    "</table>"
   ]
  },
  {
   "cell_type": "markdown",
   "metadata": {
    "papermill": {
     "duration": 0.081673,
     "end_time": "2022-03-14T17:49:46.520252",
     "exception": false,
     "start_time": "2022-03-14T17:49:46.438579",
     "status": "completed"
    },
    "tags": []
   },
   "source": [
    "<hr>"
   ]
  },
  {
   "cell_type": "markdown",
   "metadata": {
    "papermill": {
     "duration": 0.081079,
     "end_time": "2022-03-14T17:49:46.683509",
     "exception": false,
     "start_time": "2022-03-14T17:49:46.60243",
     "status": "completed"
    },
    "tags": []
   },
   "source": [
    "### Install packages"
   ]
  },
  {
   "cell_type": "code",
   "execution_count": 2,
   "metadata": {
    "execution": {
     "iopub.execute_input": "2022-07-04T13:06:51.461916Z",
     "iopub.status.busy": "2022-07-04T13:06:51.461438Z",
     "iopub.status.idle": "2022-07-04T13:07:06.209789Z",
     "shell.execute_reply": "2022-07-04T13:07:06.208510Z",
     "shell.execute_reply.started": "2022-07-04T13:06:51.461874Z"
    },
    "papermill": {
     "duration": 12.174934,
     "end_time": "2022-03-14T17:49:58.941932",
     "exception": false,
     "start_time": "2022-03-14T17:49:46.766998",
     "status": "completed"
    },
    "tags": []
   },
   "outputs": [],
   "source": [
    "# Install CDS API for downloading data from the CDS\n",
    "!pip install cdsapi"
   ]
  },
  {
   "cell_type": "code",
   "execution_count": 1,
   "metadata": {
    "execution": {
     "iopub.execute_input": "2022-07-04T13:04:16.383333Z",
     "iopub.status.busy": "2022-07-04T13:04:16.382811Z",
     "iopub.status.idle": "2022-07-04T13:06:41.385440Z",
     "shell.execute_reply": "2022-07-04T13:06:41.383951Z",
     "shell.execute_reply.started": "2022-07-04T13:04:16.383238Z"
    },
    "papermill": {
     "duration": 127.036612,
     "end_time": "2022-03-14T17:52:06.036378",
     "exception": false,
     "start_time": "2022-03-14T17:49:58.999766",
     "status": "completed"
    },
    "tags": []
   },
   "outputs": [],
   "source": [
    "# Install cfgrib to enable us to read GRIB format files\n",
    "!conda install -c conda-forge cfgrib -y"
   ]
  },
  {
   "cell_type": "markdown",
   "metadata": {
    "papermill": {
     "duration": 0.275045,
     "end_time": "2022-03-14T17:52:06.587915",
     "exception": false,
     "start_time": "2022-03-14T17:52:06.31287",
     "status": "completed"
    },
    "tags": []
   },
   "source": [
    "### Load packages"
   ]
  },
  {
   "cell_type": "code",
   "execution_count": 45,
   "metadata": {
    "execution": {
     "iopub.execute_input": "2022-07-04T14:29:57.194546Z",
     "iopub.status.busy": "2022-07-04T14:29:57.193516Z",
     "iopub.status.idle": "2022-07-04T14:29:57.204218Z",
     "shell.execute_reply": "2022-07-04T14:29:57.202881Z",
     "shell.execute_reply.started": "2022-07-04T14:29:57.194492Z"
    },
    "papermill": {
     "duration": 2.519057,
     "end_time": "2022-03-14T17:52:09.394032",
     "exception": false,
     "start_time": "2022-03-14T17:52:06.874975",
     "status": "completed"
    },
    "tags": []
   },
   "outputs": [],
   "source": [
    "# Miscellaneous operating system interfaces\n",
    "import os\n",
    "\n",
    "# CDS API\n",
    "import cdsapi\n",
    "\n",
    "# To map GRIB files to NetCDF Common Data Model\n",
    "import cfgrib\n",
    "\n",
    "# Libraries for working with multi-dimensional arrays\n",
    "import numpy as np\n",
    "import xarray as xr\n",
    "import pandas as pd\n",
    "\n",
    "# Libraries for plotting and geospatial data visualisation\n",
    "import matplotlib.path as mpath\n",
    "import matplotlib.pyplot as plt\n",
    "\n",
    "import cartopy.crs as ccrs\n",
    "from cartopy.mpl.gridliner import LONGITUDE_FORMATTER, LATITUDE_FORMATTER\n",
    "import cartopy.feature as cfeature\n",
    "\n",
    "# To work with data labels in dictionary format\n",
    "from collections import OrderedDict\n",
    "\n",
    "# Date and time related libraries\n",
    "from dateutil.relativedelta import relativedelta\n",
    "from calendar import monthrange\n",
    "import datetime\n",
    "\n",
    "# Interactive HTML widgets\n",
    "import ipywidgets as widgets\n",
    "\n",
    "# Disable warnings for data download via API\n",
    "import urllib3 \n",
    "urllib3.disable_warnings()"
   ]
  },
  {
   "cell_type": "markdown",
   "metadata": {
    "papermill": {
     "duration": 0.359685,
     "end_time": "2022-03-14T17:52:10.17792",
     "exception": false,
     "start_time": "2022-03-14T17:52:09.818235",
     "status": "completed"
    },
    "tags": []
   },
   "source": [
    "<hr>"
   ]
  },
  {
   "cell_type": "markdown",
   "metadata": {
    "papermill": {
     "duration": 0.274576,
     "end_time": "2022-03-14T17:52:10.724408",
     "exception": false,
     "start_time": "2022-03-14T17:52:10.449832",
     "status": "completed"
    },
    "tags": []
   },
   "source": [
    "## 1. Request data from the CDS programmatically with the CDS API"
   ]
  },
  {
   "cell_type": "markdown",
   "metadata": {
    "papermill": {
     "duration": 0.317649,
     "end_time": "2022-03-14T17:52:11.316089",
     "exception": false,
     "start_time": "2022-03-14T17:52:10.99844",
     "status": "completed"
    },
    "tags": []
   },
   "source": [
    "The first step is to request data from the Climate Data Store programmatically with the help of the CDS API. Let us make use of the option to manually set the CDS API credentials. First, you have to define two variables: `URL` and `KEY` which build together your CDS API key. Below, you have to replace the `#########` with your personal CDS key. Please find [here](https://cds.climate.copernicus.eu/api-how-to) your personal CDS key."
   ]
  },
  {
   "cell_type": "code",
   "execution_count": null,
   "metadata": {
    "execution": {
     "iopub.execute_input": "2022-03-22T17:25:37.071437Z",
     "iopub.status.busy": "2022-03-22T17:25:37.071115Z",
     "iopub.status.idle": "2022-03-22T17:25:37.076731Z",
     "shell.execute_reply": "2022-03-22T17:25:37.075599Z",
     "shell.execute_reply.started": "2022-03-22T17:25:37.071404Z"
    },
    "papermill": {
     "duration": 0.431818,
     "end_time": "2022-03-14T17:52:12.171912",
     "exception": false,
     "start_time": "2022-03-14T17:52:11.740094",
     "status": "completed"
    },
    "tags": []
   },
   "outputs": [],
   "source": [
    "URL = 'https://cds.climate.copernicus.eu/api/v2'\n",
    "KEY = '########################################'"
   ]
  },
  {
   "cell_type": "markdown",
   "metadata": {},
   "source": [
    "Here we specify a data directory in which we will download our data and all output files that we will generate:"
   ]
  },
  {
   "cell_type": "code",
   "execution_count": 62,
   "metadata": {
    "execution": {
     "iopub.execute_input": "2022-07-04T15:01:36.991185Z",
     "iopub.status.busy": "2022-07-04T15:01:36.990733Z",
     "iopub.status.idle": "2022-07-04T15:01:36.997190Z",
     "shell.execute_reply": "2022-07-04T15:01:36.995553Z",
     "shell.execute_reply.started": "2022-07-04T15:01:36.991145Z"
    }
   },
   "outputs": [],
   "source": [
    "DATADIR = '../input/seasonal'"
   ]
  },
  {
   "cell_type": "markdown",
   "metadata": {
    "papermill": {
     "duration": 0.42258,
     "end_time": "2022-03-14T17:52:13.01783",
     "exception": false,
     "start_time": "2022-03-14T17:52:12.59525",
     "status": "completed"
    },
    "tags": []
   },
   "source": [
    "The next step is then to request the seasonal forecast monthly statistics data on single levels with the help of the CDS API. Below, we download two separate files of total precipitation for six monthly lead times (start date in May):\n",
    "* **Retrospective forecasts (Hindcasts) for 1993 to 2016**\n",
    "* **Forecasts for 2021**\n",
    "\n",
    "Seasonal forecast data are disseminated in the GRIB data format. Let us store the data in the main working directory with the names: \n",
    "* `ecmwf_seas5_1993-2016_05_hindcast_monthly_tp.grib` and \n",
    "* `ecmwf_seas5_2021_05_forecast_monthly_tp.grib`.\n",
    "\n",
    "Running the code block below will download the data from the CDS as specified by the following API keywords:\n",
    "\n",
    "> **Format**: `Grib` <br>\n",
    "> **Originating centre**: `ECMWF` <br>\n",
    "> **System**: `5` *this refers to SEAS5* <br>\n",
    "> **Variable**: `Total precipitation` <br>\n",
    "> **Product type**: `Monthly mean` *all ensemble members will be retrieved* <br>\n",
    "> **Year**: `1993 to 2016` *for the hindcast* `2021` *for the forecast* <br>\n",
    "> **Month**: `05` *May* <br>\n",
    "> **Leadtime month**: `1 to 6` *May to October*"
   ]
  },
  {
   "cell_type": "markdown",
   "metadata": {},
   "source": [
    "If you have not already done so, you will need to accept the **terms & conditions** of the data before you can download it. These can be viewed and accepted in the [CDS download page](https://cds.climate.copernicus.eu/cdsapp#!/dataset/seasonal-monthly-single-levels?tab=form) by scrolling to the end of the download form."
   ]
  },
  {
   "cell_type": "markdown",
   "metadata": {},
   "source": [
    "<div class=\"alert alert-block alert-success\">\n",
    "<b>NOTE</b>: <br>\n",
    "    The API request below can be generated automatically from the <a href=\"https://cds.climate.copernicus.eu/cdsapp#!/dataset/seasonal-monthly-single-levels?tab=form\">CDS download page</a>. At the end of the download form there is a <code>Show API request</code> icon, which allows a copy-paste of the code below.</div>"
   ]
  },
  {
   "cell_type": "code",
   "execution_count": null,
   "metadata": {
    "execution": {
     "iopub.execute_input": "2022-03-22T11:06:46.261964Z",
     "iopub.status.busy": "2022-03-22T11:06:46.26171Z",
     "iopub.status.idle": "2022-03-22T11:16:19.250634Z",
     "shell.execute_reply": "2022-03-22T11:16:19.24926Z",
     "shell.execute_reply.started": "2022-03-22T11:06:46.26194Z"
    },
    "papermill": {
     "duration": 307.378243,
     "end_time": "2022-03-14T17:57:27.00603",
     "exception": false,
     "start_time": "2022-03-14T17:52:19.627787",
     "status": "completed"
    },
    "tags": []
   },
   "outputs": [],
   "source": [
    "c = cdsapi.Client(url=URL, key=KEY)\n",
    "\n",
    "# Hindcast data request\n",
    "c.retrieve(\n",
    "    'seasonal-monthly-single-levels',\n",
    "    {\n",
    "        'format': 'grib',\n",
    "        'originating_centre': 'ecmwf',\n",
    "        'system': '5',\n",
    "        'variable': 'total_precipitation',\n",
    "        'product_type': 'monthly_mean',\n",
    "        'year': [\n",
    "            '1993', '1994', '1995',\n",
    "            '1996', '1997', '1998',\n",
    "            '1999', '2000', '2001',\n",
    "            '2002', '2003', '2004',\n",
    "            '2005', '2006', '2007',\n",
    "            '2008', '2009', '2010',\n",
    "            '2011', '2012', '2013',\n",
    "            '2014', '2015', '2016',\n",
    "        ],\n",
    "        'month': '05',\n",
    "        'leadtime_month': [\n",
    "            '1', '2', '3',\n",
    "            '4', '5', '6',\n",
    "        ],\n",
    "    },\n",
    "    f'{DATADIR}/ecmwf_seas5_1993-2016_05_hindcast_monthly_tp.grib')\n",
    "\n",
    "# Forecast data request\n",
    "c.retrieve(\n",
    "    'seasonal-monthly-single-levels',\n",
    "    {\n",
    "        'format': 'grib',\n",
    "        'originating_centre': 'ecmwf',\n",
    "        'system': '5',\n",
    "        'variable': 'total_precipitation',\n",
    "        'product_type': 'monthly_mean',\n",
    "        'year': '2021',\n",
    "        'month': '05',\n",
    "        'leadtime_month': [\n",
    "            '1', '2', '3',\n",
    "            '4', '5', '6',\n",
    "        ],\n",
    "    },\n",
    "    f'{DATADIR}/ecmwf_seas5_2021_05_forecast_monthly_tp.grib')"
   ]
  },
  {
   "cell_type": "markdown",
   "metadata": {
    "papermill": {
     "duration": 0.377411,
     "end_time": "2022-03-14T17:57:27.753996",
     "exception": false,
     "start_time": "2022-03-14T17:57:27.376585",
     "status": "completed"
    },
    "tags": []
   },
   "source": [
    "<br>"
   ]
  },
  {
   "cell_type": "markdown",
   "metadata": {
    "papermill": {
     "duration": 0.368522,
     "end_time": "2022-03-14T17:57:28.49451",
     "exception": false,
     "start_time": "2022-03-14T17:57:28.125988",
     "status": "completed"
    },
    "tags": []
   },
   "source": [
    "## 2. Calculate seasonal hindcast climate mean"
   ]
  },
  {
   "cell_type": "markdown",
   "metadata": {
    "papermill": {
     "duration": 0.371357,
     "end_time": "2022-03-14T17:57:29.239376",
     "exception": false,
     "start_time": "2022-03-14T17:57:28.868019",
     "status": "completed"
    },
    "tags": []
   },
   "source": [
    "Seasonal forecasts are affected by systematic errors (biases) which are dependent on the leadtime, the time of year, the variable and the location. Hindcast data can help us to understand and account for these biases. We will calculate the hindcast climate mean for each lead time month, averaged over the years 1993 to 2016. In the next section we will then calculate the anomalies, i.e. the deviation of the 2021 forecast for each lead time month with respect to the hindcast mean. Anomalies are thus calculated \"in the model space\" where the model climate calculated from the hindcasts is taken as the reference.\n",
    "\n",
    "#### Read the downloaded data\n",
    "\n",
    "We will use the Python library [xarray](http://xarray.pydata.org/en/stable/) and its function `open_dataset` to read the GRIB file of the hindcast data, specifying the keyword argument `engine` and `'cfgrib'`. [cfgrib](https://github.com/ecmwf/cfgrib) is a Python interface to map GRIB files to the NetCDF Common Data Model using [ecCodes](https://github.com/ecmwf/eccodes).\n",
    "\n",
    "The result is a `xarray.Dataset` object with five dimensions:\n",
    "\n",
    "> **Number**: Ensemble members (25) <br>\n",
    "> **Time**: Forecast start date for each year (1st of May) <br>\n",
    "> **Step**: Lead time (nanoseconds in each leadtime month) <br>\n",
    "> **Latitude**: Latitudes in 1 deg resolution<br>\n",
    "> **Longitude**: Longitudes in 1 deg resolution and in 0-360 grid<br>"
   ]
  },
  {
   "cell_type": "code",
   "execution_count": 63,
   "metadata": {
    "execution": {
     "iopub.execute_input": "2022-07-04T15:01:45.634652Z",
     "iopub.status.busy": "2022-07-04T15:01:45.634253Z",
     "iopub.status.idle": "2022-07-04T15:01:52.107563Z",
     "shell.execute_reply": "2022-07-04T15:01:52.106228Z",
     "shell.execute_reply.started": "2022-07-04T15:01:45.634619Z"
    },
    "papermill": {
     "duration": 0.564456,
     "end_time": "2022-03-14T17:57:30.177156",
     "exception": true,
     "start_time": "2022-03-14T17:57:29.6127",
     "status": "failed"
    },
    "tags": []
   },
   "outputs": [],
   "source": [
    "ds = xr.open_dataset(f'{DATADIR}/ecmwf_seas5_1993-2016_05_hindcast_monthly_tp.grib', engine='cfgrib')\n",
    "ds"
   ]
  },
  {
   "cell_type": "markdown",
   "metadata": {
    "papermill": {
     "duration": null,
     "end_time": null,
     "exception": null,
     "start_time": null,
     "status": "pending"
    },
    "tags": []
   },
   "source": [
    "#### Change representation of forecast lead time\n",
    "\n",
    "Notice that xarray attempts to extract the time dimensions from the metadata in the GRIB file. By default, it tries to arrange the shape of the data array using “time” (the start time) and “step” (the lead-time in nanoseconds). This comes with two potential issues:\n",
    "- Due to some limitations in the GRIB edition 1 encoding of long forecasts, monthly aggregations such as these do not perfectly encode the start and end of the aggregation period (calendar months), and instead they use “step”, which points to the end of the aggregating interval. This might be misleading.  \n",
    "- Due to the different lengths of February in leap and non/leap years, we might have different values of “step” for the same “leadtime_month” index when we put together different start years, as we do here.\n",
    "\n",
    "A more useful representation of the data is to replace the dimension “step” with “forecastMonth”, which is part of the GRIB metadata and provides the same integer indices used in the CDS API syntax for “leadtime_month”, with the value 1 corresponding to the first complete calendar month after the forecast start date. For instance for a forecast with start date on the 1st May, `forecastMonth=1` is May, and for a forecast with start date on 17th April, `forecastMonth=1` would also be May. This is more coherent and avoids the ambiguity described above.\n",
    "\n",
    "We will create this custom data structure through use of the  keyword argument `backend_kwargs` with the `time_dims` option, specifying the two time dimensions: `forecastMonth` and `time` (or `indexing_time`, see note below). The new dataset will then have `forecastMonth` instead of `step`, with values from 1 to 6 (for each lead time month). In this conversion we will lose some information about `valid_time`, which we will need to calculate later."
   ]
  },
  {
   "cell_type": "markdown",
   "metadata": {},
   "source": [
    "<div class=\"alert alert-block alert-success\">\n",
    "<b>NOTE</b>: <br>\n",
    "    The second of the time dimensions is valid for systems with burst start dates (such as in our example), but for lagged systems, <i>time</i> should be replaced with <i>indexing_time</i>. Please see <a href=\"https://confluence.ecmwf.int/display/CKB/Seasonal+forecasts+and+the+Copernicus+Climate+Change+Service#heading-Burstvslaggedmode\">here</a> for more details on the difference between burst and lagged systems.</div>"
   ]
  },
  {
   "cell_type": "code",
   "execution_count": 64,
   "metadata": {
    "execution": {
     "iopub.execute_input": "2022-07-04T15:01:52.110136Z",
     "iopub.status.busy": "2022-07-04T15:01:52.109756Z",
     "iopub.status.idle": "2022-07-04T15:01:58.292198Z",
     "shell.execute_reply": "2022-07-04T15:01:58.290900Z",
     "shell.execute_reply.started": "2022-07-04T15:01:52.110104Z"
    },
    "papermill": {
     "duration": null,
     "end_time": null,
     "exception": null,
     "start_time": null,
     "status": "pending"
    },
    "tags": []
   },
   "outputs": [],
   "source": [
    "ds_hindcast = xr.open_dataset(f'{DATADIR}/ecmwf_seas5_1993-2016_05_hindcast_monthly_tp.grib', engine='cfgrib', backend_kwargs=dict(time_dims=('forecastMonth', 'time')))\n",
    "ds_hindcast"
   ]
  },
  {
   "cell_type": "markdown",
   "metadata": {
    "papermill": {
     "duration": null,
     "end_time": null,
     "exception": null,
     "start_time": null,
     "status": "pending"
    },
    "tags": []
   },
   "source": [
    "#### Extract data array from dataset\n",
    "\n",
    "The `xarray.Dataset` object into which we have read the data from the downloaded GRIB files may contain arrays of multiple variables (even if we have only one: total precipitation). Another xarray data structure, `xarray.DataArray`, facilitates operations on single variables. We will use this to further process our data. You can select the relevant DataArray from a Dataset by specifying the name of the variable (in our case `tprate`) in square brackets `[]`. "
   ]
  },
  {
   "cell_type": "code",
   "execution_count": 65,
   "metadata": {
    "execution": {
     "iopub.execute_input": "2022-07-04T15:01:58.294564Z",
     "iopub.status.busy": "2022-07-04T15:01:58.294214Z",
     "iopub.status.idle": "2022-07-04T15:01:58.325219Z",
     "shell.execute_reply": "2022-07-04T15:01:58.324006Z",
     "shell.execute_reply.started": "2022-07-04T15:01:58.294532Z"
    },
    "papermill": {
     "duration": null,
     "end_time": null,
     "exception": null,
     "start_time": null,
     "status": "pending"
    },
    "tags": []
   },
   "outputs": [],
   "source": [
    "tprate_hindcast = ds_hindcast['tprate']\n",
    "tprate_hindcast"
   ]
  },
  {
   "cell_type": "markdown",
   "metadata": {},
   "source": [
    "A DataArray provides additional attributes of the variable. For example, you see that the precipitation is expressed as a rate with the unit m/s. Some variables (like precipitation, radiation or heat fluxes) are encoded in GRIB as accumulations from the beginning of the forecast, and their monthly aggregations are therefore expressed as rates. Later in this tutorial we shall convert this to total accumulation."
   ]
  },
  {
   "cell_type": "markdown",
   "metadata": {
    "papermill": {
     "duration": null,
     "end_time": null,
     "exception": null,
     "start_time": null,
     "status": "pending"
    },
    "tags": []
   },
   "source": [
    "#### Average over ensemble members and years to create hindcast climatology\n",
    "\n",
    "We can now create the hindcast climatology by averaging over the 25 ensemble members and the 24 years. We do this for each forecast lead time and for each geographical grid point. We use the function `mean()` to average over one or more dimensions, which in this case are `number` (25 ensemble members) and `time` (years from 1993 to 2016). The result is an `xarray.DataArray` with three dimensions: `forecastMonth`, `latitude` and `longitude`."
   ]
  },
  {
   "cell_type": "code",
   "execution_count": 66,
   "metadata": {
    "execution": {
     "iopub.execute_input": "2022-07-04T15:02:02.851493Z",
     "iopub.status.busy": "2022-07-04T15:02:02.851082Z",
     "iopub.status.idle": "2022-07-04T15:02:11.876831Z",
     "shell.execute_reply": "2022-07-04T15:02:11.875599Z",
     "shell.execute_reply.started": "2022-07-04T15:02:02.851460Z"
    },
    "papermill": {
     "duration": null,
     "end_time": null,
     "exception": null,
     "start_time": null,
     "status": "pending"
    },
    "tags": []
   },
   "outputs": [],
   "source": [
    "tprate_hindcast_mean = tprate_hindcast.mean(['number', 'time'])\n",
    "tprate_hindcast_mean"
   ]
  },
  {
   "cell_type": "markdown",
   "metadata": {
    "papermill": {
     "duration": null,
     "end_time": null,
     "exception": null,
     "start_time": null,
     "status": "pending"
    },
    "tags": []
   },
   "source": [
    "<br>"
   ]
  },
  {
   "cell_type": "markdown",
   "metadata": {
    "papermill": {
     "duration": null,
     "end_time": null,
     "exception": null,
     "start_time": null,
     "status": "pending"
    },
    "tags": []
   },
   "source": [
    "## 3. Load monthly seasonal forecast data for 2021 and calculate seasonal forecast anomalies"
   ]
  },
  {
   "cell_type": "markdown",
   "metadata": {
    "papermill": {
     "duration": null,
     "end_time": null,
     "exception": null,
     "start_time": null,
     "status": "pending"
    },
    "tags": []
   },
   "source": [
    "The next step is to load the real-time seasonal forecast data for 6 lead time months in 2021, beginning in May. We will then subtract the hindcast climatology from this to derive the anomalies. \n",
    "\n",
    "#### Load seasonal forecast data for 2021 and change representation of forecast lead time\n",
    "\n",
    "Before we can subtract the hindcast anomaly from the 2021 forecast, we need first to ensure the two datasets have the same structure. We thus need to apply the same processing on the forecast data as we did with the hindcast to use `forecastMonth` as a coordinate of the array instead of `step`."
   ]
  },
  {
   "cell_type": "code",
   "execution_count": 67,
   "metadata": {
    "execution": {
     "iopub.execute_input": "2022-07-04T15:02:11.879426Z",
     "iopub.status.busy": "2022-07-04T15:02:11.879064Z",
     "iopub.status.idle": "2022-07-04T15:02:12.469303Z",
     "shell.execute_reply": "2022-07-04T15:02:12.468131Z",
     "shell.execute_reply.started": "2022-07-04T15:02:11.879392Z"
    },
    "papermill": {
     "duration": null,
     "end_time": null,
     "exception": null,
     "start_time": null,
     "status": "pending"
    },
    "tags": []
   },
   "outputs": [],
   "source": [
    "seas5_forecast = xr.open_dataset(f'{DATADIR}/ecmwf_seas5_2021_05_forecast_monthly_tp.grib', engine='cfgrib', \n",
    "                                 backend_kwargs=dict(time_dims=('forecastMonth', 'time')))\n",
    "seas5_forecast"
   ]
  },
  {
   "cell_type": "markdown",
   "metadata": {},
   "source": [
    "Once the `xarray.Dataset` is loaded, you see that it has 4 dimensions:\n",
    "> **Number**: 51 ensemble members <br>\n",
    "> **ForecastMonth**: 6 leadtime months <br>\n",
    "> **Latitude**: latitude values <br>\n",
    "> **Longitude**: longitude values <br>\n",
    "\n",
    "Compared to the hindcast data, we have only a single start date (May 2021) in the `time` coordinate. Another difference is that seasonal forecast real-time data have 51 ensemble members, compared to hindcasts, which only have 25 ensemble members.\n",
    "\n",
    "#### Calculate 2021 anomalies\n",
    "\n",
    "Now, we can compute the seasonal forecast anomalies for the 6 lead time months beginning with May 2021. We can compute the anomalies by subtracting the long term average (`tprate_hindcast_mean`) from the seasonal forecast real-time data for May 2021 (`seas5_forecast`).\n",
    "\n",
    "The resulting `xarray.DataArray` has the anomaly information for each of the lead time months from May 2021 to October 2021 relative to the reference period May to October for the years 1993 to 2016."
   ]
  },
  {
   "cell_type": "code",
   "execution_count": 68,
   "metadata": {
    "execution": {
     "iopub.execute_input": "2022-07-04T15:02:12.471473Z",
     "iopub.status.busy": "2022-07-04T15:02:12.471083Z",
     "iopub.status.idle": "2022-07-04T15:02:13.319282Z",
     "shell.execute_reply": "2022-07-04T15:02:13.318089Z",
     "shell.execute_reply.started": "2022-07-04T15:02:12.471441Z"
    },
    "papermill": {
     "duration": null,
     "end_time": null,
     "exception": null,
     "start_time": null,
     "status": "pending"
    },
    "tags": []
   },
   "outputs": [],
   "source": [
    "seas5_anomalies_202105 = seas5_forecast['tprate'] - tprate_hindcast_mean\n",
    "seas5_anomalies_202105"
   ]
  },
  {
   "cell_type": "markdown",
   "metadata": {
    "papermill": {
     "duration": null,
     "end_time": null,
     "exception": null,
     "start_time": null,
     "status": "pending"
    },
    "tags": []
   },
   "source": [
    "#### Convert forecast lead time month into dates\n",
    "\n",
    "A closer look at the coordinate information of `forecastMonth` reveals that it only gives integer values from 1 to 6, but not the actual time for which the forecast is valid. We will need this latter information when we convert from precipitation rate to accumulation, as for this we will need to know the number of days per month. Additionally, this information will be useful for later labelling.\n",
    "\n",
    "To calculate the time for which the forecast is valid, let us assign a new coordinate with the name `valid_time` based on the dimension `forecastMonth`. This coordinate information shall provide us the valid timestamp for each of the forecast months. We can use the value of the time dimension as the start date. The function `relativedelta()` allows us to add a specific number of months to the start date.\n",
    "\n",
    "In a second step, with the xarray function `assign_coords()`, we assign this newly created `DateTimeIndex` object as a new coordinate."
   ]
  },
  {
   "cell_type": "code",
   "execution_count": 69,
   "metadata": {
    "execution": {
     "iopub.execute_input": "2022-07-04T15:02:13.904943Z",
     "iopub.status.busy": "2022-07-04T15:02:13.904509Z",
     "iopub.status.idle": "2022-07-04T15:02:13.990838Z",
     "shell.execute_reply": "2022-07-04T15:02:13.989578Z",
     "shell.execute_reply.started": "2022-07-04T15:02:13.904905Z"
    },
    "papermill": {
     "duration": null,
     "end_time": null,
     "exception": null,
     "start_time": null,
     "status": "pending"
    },
    "tags": []
   },
   "outputs": [],
   "source": [
    "valid_time = [pd.to_datetime(seas5_anomalies_202105.time.values) + relativedelta(months=fcmonth-1) for fcmonth in seas5_anomalies_202105.forecastMonth]\n",
    "seas5_anomalies_202105 = seas5_anomalies_202105.assign_coords(valid_time=('forecastMonth',valid_time))\n",
    "seas5_anomalies_202105"
   ]
  },
  {
   "cell_type": "markdown",
   "metadata": {
    "papermill": {
     "duration": null,
     "end_time": null,
     "exception": null,
     "start_time": null,
     "status": "pending"
    },
    "tags": []
   },
   "source": [
    "#### Convert from precipitation rates to accumulation\n",
    "\n",
    "Before visualizing the seasonal forecast anomalies, let us convert the precipitation from rates in m/s to total accumulated precipitation per month in mm. The conversion has to be done per month, as it is dependent on the number of days of a specific month. For this, we create a new dimension called `numdays`. The function `monthrange()` from the calendar library returns the number of days in a month, based on a given year and month. With the help of the new coordinate information `valid_time`, we can thus create a list of the number of days. Again, with the function `assign_coords()`, we assign this list as a new coordinate in our data array."
   ]
  },
  {
   "cell_type": "code",
   "execution_count": 70,
   "metadata": {
    "execution": {
     "iopub.execute_input": "2022-07-04T15:02:17.923983Z",
     "iopub.status.busy": "2022-07-04T15:02:17.923558Z",
     "iopub.status.idle": "2022-07-04T15:02:18.001598Z",
     "shell.execute_reply": "2022-07-04T15:02:18.000228Z",
     "shell.execute_reply.started": "2022-07-04T15:02:17.923946Z"
    },
    "papermill": {
     "duration": null,
     "end_time": null,
     "exception": null,
     "start_time": null,
     "status": "pending"
    },
    "tags": []
   },
   "outputs": [],
   "source": [
    "numdays = [monthrange(dd.year,dd.month)[1] for dd in valid_time]\n",
    "seas5_anomalies_202105 = seas5_anomalies_202105.assign_coords(numdays=('forecastMonth',numdays))\n",
    "seas5_anomalies_202105"
   ]
  },
  {
   "cell_type": "markdown",
   "metadata": {
    "papermill": {
     "duration": null,
     "end_time": null,
     "exception": null,
     "start_time": null,
     "status": "pending"
    },
    "tags": []
   },
   "source": [
    "We can now use the newly created coordinate information to convert for each month the precipitation accumulations to total precipitation. For this, we multiply the precipitation values with the number of days and then with 24 x 60 x 60 (number of seconds in a day) to retrieve precipitation values in m. As a last step, we convert the values in m to mm by multiplying them by 1000."
   ]
  },
  {
   "cell_type": "code",
   "execution_count": 71,
   "metadata": {
    "execution": {
     "iopub.execute_input": "2022-07-04T15:02:24.934191Z",
     "iopub.status.busy": "2022-07-04T15:02:24.933762Z",
     "iopub.status.idle": "2022-07-04T15:02:25.298687Z",
     "shell.execute_reply": "2022-07-04T15:02:25.297534Z",
     "shell.execute_reply.started": "2022-07-04T15:02:24.934154Z"
    },
    "papermill": {
     "duration": null,
     "end_time": null,
     "exception": null,
     "start_time": null,
     "status": "pending"
    },
    "tags": []
   },
   "outputs": [],
   "source": [
    "seas5_anomalies_202105_tp = seas5_anomalies_202105 * seas5_anomalies_202105.numdays * 24 * 60 * 60 * 1000\n",
    "seas5_anomalies_202105_tp"
   ]
  },
  {
   "cell_type": "markdown",
   "metadata": {},
   "source": [
    "As a last step before visualizing the data, we want to add the attributes units and long_name and update them, as they have changed with the previous workflow steps. You can simply specify the name of an attribute (e.g. units ) and assign it a new value."
   ]
  },
  {
   "cell_type": "code",
   "execution_count": 72,
   "metadata": {
    "execution": {
     "iopub.execute_input": "2022-07-04T15:02:28.879408Z",
     "iopub.status.busy": "2022-07-04T15:02:28.879024Z",
     "iopub.status.idle": "2022-07-04T15:02:28.953330Z",
     "shell.execute_reply": "2022-07-04T15:02:28.952441Z",
     "shell.execute_reply.started": "2022-07-04T15:02:28.879375Z"
    }
   },
   "outputs": [],
   "source": [
    "seas5_anomalies_202105_tp.attrs['units'] = 'mm'\n",
    "seas5_anomalies_202105_tp.attrs['long_name'] = 'Total precipitation anomaly' \n",
    "seas5_anomalies_202105_tp"
   ]
  },
  {
   "cell_type": "markdown",
   "metadata": {
    "papermill": {
     "duration": null,
     "end_time": null,
     "exception": null,
     "start_time": null,
     "status": "pending"
    },
    "tags": []
   },
   "source": [
    "## 4. Visualize seasonal forecast anomalies for a geographical subregion"
   ]
  },
  {
   "cell_type": "markdown",
   "metadata": {
    "papermill": {
     "duration": null,
     "end_time": null,
     "exception": null,
     "start_time": null,
     "status": "pending"
    },
    "tags": []
   },
   "source": [
    "To visualise the seasonal forecast anomalies, we could simply look at the ensemble mean to summarise the information given by all individual ensemble members. However, this would mean we lose the richness of information the whole ensemble provides. To highlight the relevance of considering not only the ensemble mean but the complete distribution, we will plot the anomalies for all individual members. We will do this in two ways:\n",
    "\n",
    "> 1. **Spatial map** of all individual members for a given lead time. <br>\n",
    "> 2. **Time series plot** of all members averaged over a given region. <br>\n",
    "\n",
    "We will explore these two methods in the respective subsections below, but we will do so for a geographical subset for South Asia with a bounding box of `[N:30, W:70, S:5, E:90]`. The first step is therefore to subset the data over this area.\n",
    "\n",
    "#### Define a geographical subset\n",
    "\n",
    "To create a subset, we will define a function called `ds_latlon_subet()` which generates a geographical subset of an xarray data array. The latitude and longitude values that are outside the defined area are dropped."
   ]
  },
  {
   "cell_type": "code",
   "execution_count": 73,
   "metadata": {
    "execution": {
     "iopub.execute_input": "2022-07-04T15:02:34.553214Z",
     "iopub.status.busy": "2022-07-04T15:02:34.552462Z",
     "iopub.status.idle": "2022-07-04T15:02:34.559923Z",
     "shell.execute_reply": "2022-07-04T15:02:34.558981Z",
     "shell.execute_reply.started": "2022-07-04T15:02:34.553165Z"
    },
    "papermill": {
     "duration": null,
     "end_time": null,
     "exception": null,
     "start_time": null,
     "status": "pending"
    },
    "tags": []
   },
   "outputs": [],
   "source": [
    "def ds_latlon_subset(ds,area,latname='latitude',lonname='longitude'):\n",
    "    mask = (ds[latname]<=area[0]) & (ds[latname]>=area[2]) & (ds[lonname]<=area[3]%360) & (ds[lonname]>=area[1]%360)\n",
    "    dsout = ds.where(mask,drop=True)\n",
    "    return dsout"
   ]
  },
  {
   "cell_type": "markdown",
   "metadata": {
    "papermill": {
     "duration": null,
     "end_time": null,
     "exception": null,
     "start_time": null,
     "status": "pending"
    },
    "tags": []
   },
   "source": [
    "Now, we apply the function `ds_latlon_subset()` to the data array of the seasonal forecast anomalies."
   ]
  },
  {
   "cell_type": "code",
   "execution_count": 74,
   "metadata": {
    "execution": {
     "iopub.execute_input": "2022-07-04T15:02:36.520814Z",
     "iopub.status.busy": "2022-07-04T15:02:36.519570Z",
     "iopub.status.idle": "2022-07-04T15:02:36.666938Z",
     "shell.execute_reply": "2022-07-04T15:02:36.665765Z",
     "shell.execute_reply.started": "2022-07-04T15:02:36.520724Z"
    },
    "papermill": {
     "duration": null,
     "end_time": null,
     "exception": null,
     "start_time": null,
     "status": "pending"
    },
    "tags": []
   },
   "outputs": [],
   "source": [
    "sub = (30, 70, 5, 90) # North/West/South/East\n",
    "seas5_SAsia = ds_latlon_subset(seas5_anomalies_202105_tp, sub)\n",
    "seas5_SAsia"
   ]
  },
  {
   "cell_type": "markdown",
   "metadata": {
    "papermill": {
     "duration": null,
     "end_time": null,
     "exception": null,
     "start_time": null,
     "status": "pending"
    },
    "tags": []
   },
   "source": [
    "### 4.1 Spatial map visualization"
   ]
  },
  {
   "cell_type": "markdown",
   "metadata": {
    "papermill": {
     "duration": null,
     "end_time": null,
     "exception": null,
     "start_time": null,
     "status": "pending"
    },
    "tags": []
   },
   "source": [
    "Now we can create a spatial map visualisation which shows for a given lead time the total precipitation anomaly of the 51 ensemble members."
   ]
  },
  {
   "cell_type": "code",
   "execution_count": 75,
   "metadata": {
    "execution": {
     "iopub.execute_input": "2022-07-04T15:02:40.258365Z",
     "iopub.status.busy": "2022-07-04T15:02:40.257941Z",
     "iopub.status.idle": "2022-07-04T15:02:40.263430Z",
     "shell.execute_reply": "2022-07-04T15:02:40.262551Z",
     "shell.execute_reply.started": "2022-07-04T15:02:40.258326Z"
    }
   },
   "outputs": [],
   "source": [
    "# Select a leadtime to visualise\n",
    "lead_time = 2"
   ]
  },
  {
   "cell_type": "markdown",
   "metadata": {},
   "source": [
    "The plotting code below can be split into the following sections:\n",
    "> 1. **Define the overall figure**: Including the size and spacing between subplots. <br>\n",
    "> 2. **Create the plots**: Loop over each subplot and set a customized title, add coastlines and set geographical extent. <br>\n",
    "> 3. **Create a colour bar**: Add a colour bar with a label. <br>\n",
    "> 4. **Save the figure**: Save the figure as a png file. <br>"
   ]
  },
  {
   "cell_type": "code",
   "execution_count": 104,
   "metadata": {
    "execution": {
     "iopub.execute_input": "2022-07-04T16:04:37.766742Z",
     "iopub.status.busy": "2022-07-04T16:04:37.766323Z",
     "iopub.status.idle": "2022-07-04T16:04:42.200774Z",
     "shell.execute_reply": "2022-07-04T16:04:42.199004Z",
     "shell.execute_reply.started": "2022-07-04T16:04:37.766709Z"
    }
   },
   "outputs": [],
   "source": [
    "# Define figure and spacing between subplots\n",
    "fig = plt.figure(figsize=(16, 12))\n",
    "plt.subplots_adjust(hspace=0.15, wspace = 0.05)\n",
    "\n",
    "new_date_format = seas5_SAsia['valid_time'].dt.strftime('%b, %Y')\n",
    "\n",
    "# Define overall title\n",
    "plt.suptitle('C3S ECMWF SEAS5 total precipitation anomaly'\n",
    "             + os.linesep + \n",
    "             f'Start data: {str(new_date_format[0].data)}' \n",
    "             + f' - Valid date: {str(new_date_format[lead_time-1].data)}'\n",
    "             , fontsize=18)\n",
    "\n",
    "# Define each subplot looping through the ensemble members\n",
    "for n in np.arange(51):\n",
    "    # Add a new subplot iteratively\n",
    "    ax = plt.subplot(6, 10, n + 1, projection=ccrs.PlateCarree())\n",
    "    # Plot data\n",
    "    im = ax.pcolormesh(seas5_SAsia.longitude.values, seas5_SAsia.latitude.values, \n",
    "                       seas5_SAsia[n,lead_time-1,:,:], cmap='bwr_r', vmin=-350, vmax=350)\n",
    "    ax.set_title(f'Member {n+1}') # Set subplot title\n",
    "    ax.coastlines(color='black') # Add coastlines\n",
    "    # Set the extent (x0, x1, y0, y1) of the map in the given coordinate system.\n",
    "    ax.set_extent([sub[1],sub[3],sub[2],sub[0]], crs=ccrs.PlateCarree())\n",
    "\n",
    "# Create a colour bar at the bottom of the fugure\n",
    "fig.subplots_adjust(bottom=0.0)\n",
    "# Add axis to make space for colour bar (left, bottom, width, height)\n",
    "cbar_ax = fig.add_axes([0.3, 0.05, 0.5, 0.02])\n",
    "fig.colorbar(im, cax=cbar_ax, orientation='horizontal', label='Total precipitation anomaly (mm)')\n",
    "\n",
    "# Save the figure\n",
    "fig.savefig('./TotalPrecAnomalyForecastSAsia.png')"
   ]
  },
  {
   "cell_type": "markdown",
   "metadata": {
    "papermill": {
     "duration": null,
     "end_time": null,
     "exception": null,
     "start_time": null,
     "status": "pending"
    },
    "tags": []
   },
   "source": [
    "<br>"
   ]
  },
  {
   "cell_type": "markdown",
   "metadata": {
    "papermill": {
     "duration": null,
     "end_time": null,
     "exception": null,
     "start_time": null,
     "status": "pending"
    },
    "tags": []
   },
   "source": [
    "### 4.2 Plot of total precipitation anomalies for each seasonal forecast month"
   ]
  },
  {
   "cell_type": "markdown",
   "metadata": {
    "papermill": {
     "duration": null,
     "end_time": null,
     "exception": null,
     "start_time": null,
     "status": "pending"
    },
    "tags": []
   },
   "source": [
    "In this step we will summarise the total precipitation behaviour over the whole region for each lead time month. We will do this by averaging in the spatial (latitude and longitude) dimensions. \n",
    "\n",
    "To put the anomalies in context they will be compared to the reference climate computed in this subregion from the hindcast data."
   ]
  },
  {
   "cell_type": "markdown",
   "metadata": {},
   "source": [
    "#### Average over region"
   ]
  },
  {
   "cell_type": "markdown",
   "metadata": {
    "papermill": {
     "duration": null,
     "end_time": null,
     "exception": null,
     "start_time": null,
     "status": "pending"
    },
    "tags": []
   },
   "source": [
    "The first step is to create the weighted average of the subregion defined above. For this, we first estimate the cell area with the cosine of the latitude. These weights are then applied when the data array is averaged over the two dimensions `latitude` and `longitude`. You can use the xarray function `weighted()` together with the function `mean()` to create a weighted average of the geographical region. The result is a data array with two dimensions: `number` and `forecastMonth`."
   ]
  },
  {
   "cell_type": "code",
   "execution_count": 77,
   "metadata": {
    "execution": {
     "iopub.execute_input": "2022-07-04T15:03:02.382605Z",
     "iopub.status.busy": "2022-07-04T15:03:02.382186Z",
     "iopub.status.idle": "2022-07-04T15:03:02.439356Z",
     "shell.execute_reply": "2022-07-04T15:03:02.438037Z",
     "shell.execute_reply.started": "2022-07-04T15:03:02.382572Z"
    },
    "papermill": {
     "duration": null,
     "end_time": null,
     "exception": null,
     "start_time": null,
     "status": "pending"
    },
    "tags": []
   },
   "outputs": [],
   "source": [
    "weights =np.cos(np.deg2rad(seas5_SAsia.latitude))\n",
    "\n",
    "anoms_SAsia = seas5_SAsia.weighted(weights).mean(['latitude','longitude'])\n",
    "anoms_SAsia"
   ]
  },
  {
   "cell_type": "markdown",
   "metadata": {},
   "source": [
    "#### Conversion of data into two dimensional pivot table"
   ]
  },
  {
   "cell_type": "markdown",
   "metadata": {
    "papermill": {
     "duration": null,
     "end_time": null,
     "exception": null,
     "start_time": null,
     "status": "pending"
    },
    "tags": []
   },
   "source": [
    "To facilitate further processing we will convert the data array into a pandas.Dataframe object with the function `to_dataframe()`. Pandas dataframes are optimised for the processing and visualisation of two dimensional data. We may want to drop coordinates that are not needed. We can do this with the function `drop_vars()`."
   ]
  },
  {
   "cell_type": "code",
   "execution_count": 97,
   "metadata": {
    "execution": {
     "iopub.execute_input": "2022-07-04T15:37:39.015946Z",
     "iopub.status.busy": "2022-07-04T15:37:39.015469Z",
     "iopub.status.idle": "2022-07-04T15:37:39.041040Z",
     "shell.execute_reply": "2022-07-04T15:37:39.039762Z",
     "shell.execute_reply.started": "2022-07-04T15:37:39.015908Z"
    },
    "papermill": {
     "duration": null,
     "end_time": null,
     "exception": null,
     "start_time": null,
     "status": "pending"
    },
    "tags": []
   },
   "outputs": [],
   "source": [
    "anoms_SAsia_df = anoms_SAsia.drop_vars(['time','surface','numdays']).to_dataframe(name='anomaly')\n",
    "anoms_SAsia_df"
   ]
  },
  {
   "cell_type": "markdown",
   "metadata": {
    "papermill": {
     "duration": null,
     "end_time": null,
     "exception": null,
     "start_time": null,
     "status": "pending"
    },
    "tags": []
   },
   "source": [
    "We will now reorganise the data structure to facilitate plotting. We will do this through the use of the following Pandas functions:\n",
    "\n",
    "> **reset_index().drop()**: We use `reset_index()` to convert the ensemble members into columns, and we use `drop()` to remove the *forecastMonth* column, as we have the same information in the *valid_time* dimension <br>\n",
    "> **set_index()**: allows us to define which column(s) shall be used as data frame indices <br>\n",
    "> **unstack()**: converts the columns into a pivot table, thus re-arranging the data into an easily manageable two dimensional table.<br>"
   ]
  },
  {
   "cell_type": "code",
   "execution_count": 98,
   "metadata": {
    "execution": {
     "iopub.execute_input": "2022-07-04T15:37:43.456264Z",
     "iopub.status.busy": "2022-07-04T15:37:43.455882Z",
     "iopub.status.idle": "2022-07-04T15:37:43.500314Z",
     "shell.execute_reply": "2022-07-04T15:37:43.499244Z",
     "shell.execute_reply.started": "2022-07-04T15:37:43.456232Z"
    },
    "papermill": {
     "duration": null,
     "end_time": null,
     "exception": null,
     "start_time": null,
     "status": "pending"
    },
    "tags": []
   },
   "outputs": [],
   "source": [
    "anoms_SAsia_df = anoms_SAsia_df.reset_index().drop('forecastMonth',axis=1).set_index(['valid_time','number']).unstack()\n",
    "anoms_SAsia_df"
   ]
  },
  {
   "cell_type": "markdown",
   "metadata": {},
   "source": [
    "The data frame above provides us for each ensemble member and forecast month the total precipitation anomaly.\n",
    "\n",
    "As a last step, to improve the labels of our data plot later on, we will convert the `valid_time` column values from *YYYY-MM-DD* format into *Month, Year* format."
   ]
  },
  {
   "cell_type": "code",
   "execution_count": 102,
   "metadata": {
    "execution": {
     "iopub.execute_input": "2022-07-04T15:57:11.263193Z",
     "iopub.status.busy": "2022-07-04T15:57:11.262732Z",
     "iopub.status.idle": "2022-07-04T15:57:11.306857Z",
     "shell.execute_reply": "2022-07-04T15:57:11.305730Z",
     "shell.execute_reply.started": "2022-07-04T15:57:11.263156Z"
    }
   },
   "outputs": [],
   "source": [
    "anoms_SAsia_m_yr = anoms_SAsia_df.reset_index()\n",
    "anoms_SAsia_m_yr['valid_time'] = anoms_SAsia_m_yr['valid_time'].dt.strftime('%b, %Y')\n",
    "anoms_SAsia_m_yr"
   ]
  },
  {
   "cell_type": "markdown",
   "metadata": {
    "papermill": {
     "duration": null,
     "end_time": null,
     "exception": null,
     "start_time": null,
     "status": "pending"
    },
    "tags": []
   },
   "source": [
    "#### Repeat steps for hindcast data (to compare forecast and hindcast anomalies)\n",
    "\n",
    "We would like now to repeat the steps for the hindcast data in order to show the forecast in the context of the reference climate. I.e. we will compare the seasonal forecast and hindcast anomalies for each lead-time month. In the final plot we will show the anomaly of each forecast ensemble member, while the model climate defined by the hindcasts will be represented in the form of tercile categories. This will put each ensemble member forecast anomaly into context and will give us an indication of its intensity.\n",
    "\n",
    "We therefore revisit the hindcast data (`tprate_hindcast`), which we loaded in [section 2](#hindcast_climate_mean) above. We will apply the same steps to create a geographical subset and aggregate spatially."
   ]
  },
  {
   "cell_type": "code",
   "execution_count": 24,
   "metadata": {
    "execution": {
     "iopub.execute_input": "2022-07-04T13:29:45.428774Z",
     "iopub.status.busy": "2022-07-04T13:29:45.428299Z",
     "iopub.status.idle": "2022-07-04T13:29:46.548429Z",
     "shell.execute_reply": "2022-07-04T13:29:46.547108Z",
     "shell.execute_reply.started": "2022-07-04T13:29:45.428723Z"
    },
    "papermill": {
     "duration": null,
     "end_time": null,
     "exception": null,
     "start_time": null,
     "status": "pending"
    },
    "tags": []
   },
   "outputs": [],
   "source": [
    "tprate_hindcast_SAsia = ds_latlon_subset(tprate_hindcast, sub)"
   ]
  },
  {
   "cell_type": "markdown",
   "metadata": {
    "papermill": {
     "duration": null,
     "end_time": null,
     "exception": null,
     "start_time": null,
     "status": "pending"
    },
    "tags": []
   },
   "source": [
    "To create the weighted average of the two dimensions `latitude` and `longitude`, we can use the same `weights` as above."
   ]
  },
  {
   "cell_type": "code",
   "execution_count": 25,
   "metadata": {
    "execution": {
     "iopub.execute_input": "2022-07-04T13:29:48.408037Z",
     "iopub.status.busy": "2022-07-04T13:29:48.407594Z",
     "iopub.status.idle": "2022-07-04T13:29:48.441601Z",
     "shell.execute_reply": "2022-07-04T13:29:48.440283Z",
     "shell.execute_reply.started": "2022-07-04T13:29:48.407999Z"
    },
    "papermill": {
     "duration": null,
     "end_time": null,
     "exception": null,
     "start_time": null,
     "status": "pending"
    },
    "tags": []
   },
   "outputs": [],
   "source": [
    "tprate_hindcast_SAsia = tprate_hindcast_SAsia.weighted(weights).mean(['latitude','longitude'])"
   ]
  },
  {
   "cell_type": "markdown",
   "metadata": {},
   "source": [
    "The resulting array has three remaining dimensions, `number`, `forecastMonth` and `time`."
   ]
  },
  {
   "cell_type": "markdown",
   "metadata": {
    "papermill": {
     "duration": null,
     "end_time": null,
     "exception": null,
     "start_time": null,
     "status": "pending"
    },
    "tags": []
   },
   "source": [
    "The next step is to compute the hindcast anomalies using the hindcast climatology as reference. As before, we create the hindcast climatology by computing the mean over the two dimensions `number` (ensemble member) and `time` (years) resulting in the climatology for each lead-time month. We then subtract this from the hindcast data to derive the anomalies."
   ]
  },
  {
   "cell_type": "code",
   "execution_count": 26,
   "metadata": {
    "execution": {
     "iopub.execute_input": "2022-07-04T13:29:50.500927Z",
     "iopub.status.busy": "2022-07-04T13:29:50.500493Z",
     "iopub.status.idle": "2022-07-04T13:29:50.508674Z",
     "shell.execute_reply": "2022-07-04T13:29:50.507912Z",
     "shell.execute_reply.started": "2022-07-04T13:29:50.500890Z"
    },
    "papermill": {
     "duration": null,
     "end_time": null,
     "exception": null,
     "start_time": null,
     "status": "pending"
    },
    "tags": []
   },
   "outputs": [],
   "source": [
    "anom_hindcast = tprate_hindcast_SAsia - tprate_hindcast_SAsia.mean(['number','time'])"
   ]
  },
  {
   "cell_type": "markdown",
   "metadata": {
    "papermill": {
     "duration": null,
     "end_time": null,
     "exception": null,
     "start_time": null,
     "status": "pending"
    },
    "tags": []
   },
   "source": [
    "We now repeat the same steps to convert precipitation accumulations in m/s to total precipitation in m."
   ]
  },
  {
   "cell_type": "code",
   "execution_count": 27,
   "metadata": {
    "execution": {
     "iopub.execute_input": "2022-07-04T13:30:36.424840Z",
     "iopub.status.busy": "2022-07-04T13:30:36.424422Z",
     "iopub.status.idle": "2022-07-04T13:30:36.437015Z",
     "shell.execute_reply": "2022-07-04T13:30:36.435639Z",
     "shell.execute_reply.started": "2022-07-04T13:30:36.424791Z"
    },
    "papermill": {
     "duration": null,
     "end_time": null,
     "exception": null,
     "start_time": null,
     "status": "pending"
    },
    "tags": []
   },
   "outputs": [],
   "source": [
    "valid_time = [ pd.to_datetime(anom_hindcast.time.values[0]) + relativedelta(months=fcmonth-1) for fcmonth in anom_hindcast.forecastMonth]\n",
    "numdays = [monthrange(dd.year,dd.month)[1] for dd in valid_time]\n",
    "anom_hindcast = anom_hindcast.assign_coords(numdays=('forecastMonth',numdays))"
   ]
  },
  {
   "cell_type": "code",
   "execution_count": 28,
   "metadata": {
    "execution": {
     "iopub.execute_input": "2022-07-04T13:30:39.004874Z",
     "iopub.status.busy": "2022-07-04T13:30:39.004468Z",
     "iopub.status.idle": "2022-07-04T13:30:39.011375Z",
     "shell.execute_reply": "2022-07-04T13:30:39.010352Z",
     "shell.execute_reply.started": "2022-07-04T13:30:39.004831Z"
    },
    "papermill": {
     "duration": null,
     "end_time": null,
     "exception": null,
     "start_time": null,
     "status": "pending"
    },
    "tags": []
   },
   "outputs": [],
   "source": [
    "anom_hindcast_tp = anom_hindcast * anom_hindcast.numdays * 24 * 60 * 60 * 1000"
   ]
  },
  {
   "cell_type": "markdown",
   "metadata": {
    "papermill": {
     "duration": null,
     "end_time": null,
     "exception": null,
     "start_time": null,
     "status": "pending"
    },
    "tags": []
   },
   "source": [
    "#### Calculation of hindcast anomaly terciles\n",
    "\n",
    "Now, for each of the lead-time months, we can compute the minimum and maximum as well as the 1/3 and 2/3 percentiles of the hindcast anomaly ensemble."
   ]
  },
  {
   "cell_type": "code",
   "execution_count": 29,
   "metadata": {
    "execution": {
     "iopub.execute_input": "2022-07-04T13:30:53.511392Z",
     "iopub.status.busy": "2022-07-04T13:30:53.510963Z",
     "iopub.status.idle": "2022-07-04T13:30:53.524079Z",
     "shell.execute_reply": "2022-07-04T13:30:53.522843Z",
     "shell.execute_reply.started": "2022-07-04T13:30:53.511354Z"
    },
    "papermill": {
     "duration": null,
     "end_time": null,
     "exception": null,
     "start_time": null,
     "status": "pending"
    },
    "tags": []
   },
   "outputs": [],
   "source": [
    "P0 = anom_hindcast_tp.min(['number','time'])\n",
    "P33 = anom_hindcast_tp.quantile(1/3.,['number','time'])\n",
    "P66 = anom_hindcast_tp.quantile(2/3.,['number','time'])\n",
    "P100 = anom_hindcast_tp.max(['number','time'])"
   ]
  },
  {
   "cell_type": "markdown",
   "metadata": {},
   "source": [
    "A last step before we visualise this data is to "
   ]
  },
  {
   "cell_type": "markdown",
   "metadata": {
    "papermill": {
     "duration": null,
     "end_time": null,
     "exception": null,
     "start_time": null,
     "status": "pending"
    },
    "tags": []
   },
   "source": [
    "The last step is to visualize the hindcast climatology boundaries as filled area and the ensemble seasonal forecast anomalies for each forecast month. The visualisation code below has three main sections:\n",
    "> 1. **Initiate the figure**: Initiate a matplotlib figure <br>\n",
    "> 2. **Plot the seasonal forecast anomalies + climatology boundaries**: Plot the ensemble seasonal forecast anomalies as black circles and the hindcast climatology as filled areas <br>\n",
    "> 3. **Customise plot settings**: Add additonal features, such as title, x- and y-axis labels etc. <br>"
   ]
  },
  {
   "cell_type": "code",
   "execution_count": 103,
   "metadata": {
    "execution": {
     "iopub.execute_input": "2022-07-04T15:58:02.020933Z",
     "iopub.status.busy": "2022-07-04T15:58:02.020124Z",
     "iopub.status.idle": "2022-07-04T15:58:02.578521Z",
     "shell.execute_reply": "2022-07-04T15:58:02.576732Z",
     "shell.execute_reply.started": "2022-07-04T15:58:02.020889Z"
    },
    "papermill": {
     "duration": null,
     "end_time": null,
     "exception": null,
     "start_time": null,
     "status": "pending"
    },
    "tags": []
   },
   "outputs": [],
   "source": [
    "# Initiate the figure\n",
    "fig=plt.figure(figsize=(20, 10))\n",
    "ax=fig.gca()\n",
    "\n",
    "# Plot the seasonal forecast anomalies + climatology boundaries as filled areas\n",
    "ax.plot(anoms_SAsia_m_yr.valid_time, anoms_SAsia_m_yr.anomaly, marker='o', linestyle='', color='black', alpha=0.5, label='Forecast')\n",
    "ax.fill_between(anoms_SAsia_m_yr.index,P66,P100,color='#5ab4ac',label='Above normal')\n",
    "ax.fill_between(anoms_SAsia_m_yr.index,P33,P66,color='lightgray',label='Near average')\n",
    "ax.fill_between(anoms_SAsia_m_yr.index,P0,P33,color='#d8b365',label='Below normal')\n",
    "\n",
    "# Customize plot settings\n",
    "plt.title('C3S ECMWF SEAS5 total precipitation anomaly (South Asia)' \n",
    "          + os.linesep + \n",
    "          'Start date: May 2021 - Reference period: 1993-2016' \n",
    "          + os.linesep, fontsize=14)\n",
    "\n",
    "handles, labels = plt.gca().get_legend_handles_labels()\n",
    "by_label = OrderedDict(zip(labels, handles))\n",
    "plt.legend(by_label.values(), by_label.keys())\n",
    "\n",
    "ax.set_ylabel('Total precipitation anomaly (mm)' + os.linesep, fontsize=12)\n",
    "ax.set_xlabel(os.linesep + 'Valid date', fontsize=12)\n",
    "\n",
    "# Save the figure\n",
    "fig.savefig('./TotalPrecForecastHindcastAnomaliesSAsia.png')"
   ]
  },
  {
   "cell_type": "markdown",
   "metadata": {
    "papermill": {
     "duration": null,
     "end_time": null,
     "exception": null,
     "start_time": null,
     "status": "pending"
    },
    "tags": []
   },
   "source": [
    "<br>"
   ]
  },
  {
   "cell_type": "markdown",
   "metadata": {
    "papermill": {
     "duration": null,
     "end_time": null,
     "exception": null,
     "start_time": null,
     "status": "pending"
    },
    "tags": []
   },
   "source": [
    "## 5. Calculate seasonal forecast 3-month anomalies"
   ]
  },
  {
   "cell_type": "markdown",
   "metadata": {
    "papermill": {
     "duration": null,
     "end_time": null,
     "exception": null,
     "start_time": null,
     "status": "pending"
    },
    "tags": []
   },
   "source": [
    "In this last section of the tutorial we will show how to create plots similar to those on the [Copernicus Climate Change Service (C3S) website](https://climate.copernicus.eu/charts/c3s_seasonal/). This process includes calculating 3-month aggregations and ensemble means. This differs from the previous sections where we have focussed on the processing of monthly data and individual members.\n",
    "\n",
    "#### Compute 3-month rolling averages\n",
    "\n",
    "The first step is to compute 3-month rolling averaged for the seasonal forecasts and hindcast data. We will do this through a combination of the xarray functions `rolling()` and `mean()`."
   ]
  },
  {
   "cell_type": "code",
   "execution_count": 33,
   "metadata": {
    "execution": {
     "iopub.execute_input": "2022-07-04T13:51:06.550875Z",
     "iopub.status.busy": "2022-07-04T13:51:06.550436Z",
     "iopub.status.idle": "2022-07-04T13:51:17.316648Z",
     "shell.execute_reply": "2022-07-04T13:51:17.315434Z",
     "shell.execute_reply.started": "2022-07-04T13:51:06.550841Z"
    },
    "papermill": {
     "duration": null,
     "end_time": null,
     "exception": null,
     "start_time": null,
     "status": "pending"
    },
    "tags": []
   },
   "outputs": [],
   "source": [
    "seas5_forecast_3m = seas5_forecast.rolling(forecastMonth=3).mean()\n",
    "ds_hindcast_3m = ds_hindcast.rolling(forecastMonth=3).mean()"
   ]
  },
  {
   "cell_type": "markdown",
   "metadata": {
    "papermill": {
     "duration": null,
     "end_time": null,
     "exception": null,
     "start_time": null,
     "status": "pending"
    },
    "tags": []
   },
   "source": [
    "#### Calculate anomalies\n",
    "\n",
    "We now repeat the process of calculating anomalies with respect to the climatology, this time for the 3-monthly data."
   ]
  },
  {
   "cell_type": "code",
   "execution_count": 34,
   "metadata": {
    "execution": {
     "iopub.execute_input": "2022-07-04T13:51:17.319738Z",
     "iopub.status.busy": "2022-07-04T13:51:17.319231Z",
     "iopub.status.idle": "2022-07-04T13:51:18.943394Z",
     "shell.execute_reply": "2022-07-04T13:51:18.942101Z",
     "shell.execute_reply.started": "2022-07-04T13:51:17.319691Z"
    },
    "papermill": {
     "duration": null,
     "end_time": null,
     "exception": null,
     "start_time": null,
     "status": "pending"
    },
    "tags": []
   },
   "outputs": [],
   "source": [
    "ds_hindcast_3m_hindcast_mean = ds_hindcast_3m.mean(['number','time'])\n",
    "seas5_anomalies_3m_202105 = seas5_forecast_3m.tprate - ds_hindcast_3m_hindcast_mean.tprate"
   ]
  },
  {
   "cell_type": "markdown",
   "metadata": {
    "papermill": {
     "duration": null,
     "end_time": null,
     "exception": null,
     "start_time": null,
     "status": "pending"
    },
    "tags": []
   },
   "source": [
    "#### Ensemble mean anomaly\n",
    "\n",
    "We want to compute the average of the 3-month seasonal forecast anomaly of the ensemble members. For this, we have to average over the dimension `number`. The final array has three dimensions, `forecastMonth`, `latitude` and `longitude`."
   ]
  },
  {
   "cell_type": "code",
   "execution_count": 35,
   "metadata": {
    "execution": {
     "iopub.execute_input": "2022-07-04T13:51:18.945063Z",
     "iopub.status.busy": "2022-07-04T13:51:18.944720Z",
     "iopub.status.idle": "2022-07-04T13:51:19.084443Z",
     "shell.execute_reply": "2022-07-04T13:51:19.083329Z",
     "shell.execute_reply.started": "2022-07-04T13:51:18.945027Z"
    },
    "papermill": {
     "duration": null,
     "end_time": null,
     "exception": null,
     "start_time": null,
     "status": "pending"
    },
    "tags": []
   },
   "outputs": [],
   "source": [
    "seas5_anomalies_3m_202105_em = seas5_anomalies_3m_202105.mean('number')"
   ]
  },
  {
   "cell_type": "markdown",
   "metadata": {
    "papermill": {
     "duration": null,
     "end_time": null,
     "exception": null,
     "start_time": null,
     "status": "pending"
    },
    "tags": []
   },
   "source": [
    "#### Convert precipitation rate to accumulation in mm\n",
    "\n",
    "The last step before visualizing the 3-month seasonal forecast anomalies is again to convert the precipitation accumulations to total precipitation in mm. We repeat the same steps as previously:\n",
    "> 1. **Calculate number of days for each forecast month and add it as coordinate info** <br>\n",
    "> 2. **Name the 3-month rolling archives to indicate over which months the average was built** <br>\n",
    "> 3. **Convert the precipitation accumulations based on the number of days** <br>\n",
    "> 4. **Add updated attributes to the data array** <br>"
   ]
  },
  {
   "cell_type": "code",
   "execution_count": 36,
   "metadata": {
    "execution": {
     "iopub.execute_input": "2022-07-04T13:51:19.087119Z",
     "iopub.status.busy": "2022-07-04T13:51:19.086740Z",
     "iopub.status.idle": "2022-07-04T13:51:19.113561Z",
     "shell.execute_reply": "2022-07-04T13:51:19.112496Z",
     "shell.execute_reply.started": "2022-07-04T13:51:19.087087Z"
    },
    "papermill": {
     "duration": null,
     "end_time": null,
     "exception": null,
     "start_time": null,
     "status": "pending"
    },
    "tags": []
   },
   "outputs": [],
   "source": [
    "# Calculate number of days for each forecast month and add it as coordinate information to the data array\n",
    "vt = [ pd.to_datetime(seas5_anomalies_3m_202105_em.time.values) + relativedelta(months=fcmonth-1) for fcmonth in seas5_anomalies_3m_202105_em.forecastMonth]\n",
    "vts = [[thisvt+relativedelta(months=-mm) for mm in range(3)] for thisvt in vt]\n",
    "numdays = [np.sum([monthrange(dd.year,dd.month)[1] for dd in d3]) for d3 in vts]\n",
    "seas5_anomalies_3m_202105_em = seas5_anomalies_3m_202105_em.assign_coords(numdays=('forecastMonth',numdays))\n",
    "\n",
    "# Define names for the 3-month rolling archives, that give an indication over which months the average was built\n",
    "vts_names = ['{}{}{} {}'.format(d3[2].strftime('%b')[0],d3[1].strftime('%b')[0],d3[0].strftime('%b')[0], d3[0].strftime('%Y'))  for d3 in vts]\n",
    "seas5_anomalies_3m_202105_em = seas5_anomalies_3m_202105_em.assign_coords(valid_time=('forecastMonth',vts_names))\n",
    "seas5_anomalies_3m_202105_em\n",
    "\n",
    "# Convert the precipitation accumulations based on the number of days\n",
    "seas5_anomalies_3m_202105_em_tp = seas5_anomalies_3m_202105_em * seas5_anomalies_3m_202105_em.numdays * 24 * 60 * 60 * 1000\n",
    "\n",
    "# Add updated attributes\n",
    "seas5_anomalies_3m_202105_em_tp.attrs['units'] = 'mm'\n",
    "seas5_anomalies_3m_202105_em_tp.attrs['long_name'] = 'SEAS5 3-monthly total precipitation ensemble mean anomaly for 6 lead-time months, start date in May 2021.'"
   ]
  },
  {
   "cell_type": "markdown",
   "metadata": {
    "papermill": {
     "duration": null,
     "end_time": null,
     "exception": null,
     "start_time": null,
     "status": "pending"
    },
    "tags": []
   },
   "source": [
    "#### Visualise 3-monthly total precipitation ensemble mean anomalies\n",
    "\n",
    "Let us now visualise the 3-month total precipitation ensemble mean anomaly in an interactive plot. Widgets (`ipywidgets`) allow us to add interactive features to Jupyter notebooks. We will use these to add a dropdown menu that offers the option to choose the 3-monthly periods over which the anomalies are averaged. Given that we have 6 lead-time months, we end up with only 4 possible 3-monthly periods (the last 2 months are insufficient to create a complete 3-month aggregation)."
   ]
  },
  {
   "cell_type": "code",
   "execution_count": 37,
   "metadata": {
    "execution": {
     "iopub.execute_input": "2022-07-04T13:51:19.116747Z",
     "iopub.status.busy": "2022-07-04T13:51:19.115259Z",
     "iopub.status.idle": "2022-07-04T13:51:19.124562Z",
     "shell.execute_reply": "2022-07-04T13:51:19.123416Z",
     "shell.execute_reply.started": "2022-07-04T13:51:19.116692Z"
    }
   },
   "outputs": [],
   "source": [
    "vts_names"
   ]
  },
  {
   "cell_type": "code",
   "execution_count": 38,
   "metadata": {
    "execution": {
     "iopub.execute_input": "2022-07-04T13:51:19.126281Z",
     "iopub.status.busy": "2022-07-04T13:51:19.125952Z",
     "iopub.status.idle": "2022-07-04T13:51:19.138576Z",
     "shell.execute_reply": "2022-07-04T13:51:19.137614Z",
     "shell.execute_reply.started": "2022-07-04T13:51:19.126251Z"
    }
   },
   "outputs": [],
   "source": [
    "dropdown_opts = [(vts_names[mm-1],mm) for mm in range(3,7)]\n",
    "dropdown_opts"
   ]
  },
  {
   "cell_type": "code",
   "execution_count": 39,
   "metadata": {
    "execution": {
     "iopub.execute_input": "2022-07-04T13:51:19.141177Z",
     "iopub.status.busy": "2022-07-04T13:51:19.140235Z",
     "iopub.status.idle": "2022-07-04T13:51:26.043478Z",
     "shell.execute_reply": "2022-07-04T13:51:26.042403Z",
     "shell.execute_reply.started": "2022-07-04T13:51:19.141138Z"
    }
   },
   "outputs": [],
   "source": [
    "tp_colors = [(153/255.,51/255.,0),(204/255.,136/255.,0),(1,213/255.,0),\n",
    "             (1,238/255.,153/255.),(1,1,1),(204/255.,1,102/255.),\n",
    "             (42/255.,1,0),(0,153/255.,51/255.),(0,102/255.,102/255.)]  \n",
    "tp_levels = [-200,-100,-50,-10,10,50,100,200]\n",
    "\n",
    "\n",
    "\n",
    "def plot_leadt(ds, leadt_end):\n",
    "    array = ds.sel(forecastMonth=leadt_end)\n",
    "    fig, ax = plt.subplots(1, 1, figsize = (16, 8), subplot_kw={'projection': ccrs.PlateCarree()})\n",
    "    im = plt.contourf(array.longitude, array.latitude, array, \n",
    "                      levels=tp_levels, colors=tp_colors, extend='both')\n",
    "    ax.set_title(f'{array.long_name}' + os.linesep + f'{array.valid_time.values}', fontsize=16)\n",
    "    ax.gridlines(draw_labels=True, linewidth=1, color='gray', alpha=0.5, linestyle='--') \n",
    "    ax.coastlines(color='black')\n",
    "    cbar = plt.colorbar(im,fraction=0.05, pad=0.04)\n",
    "    cbar.set_label(array.units)\n",
    "    \n",
    "    return\n",
    "    \n",
    "dropdown_opts = [(vts_names[mm-1],mm) for mm in range(3,7)] \n",
    "a=widgets.interact(plot_leadt, ds=widgets.fixed(seas5_anomalies_3m_202105_em_tp), \n",
    "                   leadt_end=widgets.Dropdown(options=dropdown_opts,description='Valid Time:', \n",
    "                                              style={'description_width': 'initial'}))\n"
   ]
  },
  {
   "cell_type": "markdown",
   "metadata": {},
   "source": [
    "<div class=\"alert alert-block alert-success\">\n",
    "<b>NOTE</b>: <br>\n",
    "    The plots shown here are similar but not identical to those on the <a href=\"https://climate.copernicus.eu/charts/c3s_seasonal/\">Copernicus Climate Change Service (C3S) website</a>, specifically <a href=\"https://climate.copernicus.eu/charts/c3s_seasonal/c3s_seasonal_spatial_ecmf_rain_3m?facets=Parameters,precipitation%3BCentres,ECMWF&time=2021050100,744,2021060100&type=ensm&area=area08\">here</a>. These plots are not identical however. The white areas in both plots, for example, have different meanings: those on the C3S website have a significance test to white-out non statistically-significant anomalies.</div>"
   ]
  },
  {
   "cell_type": "markdown",
   "metadata": {
    "papermill": {
     "duration": null,
     "end_time": null,
     "exception": null,
     "start_time": null,
     "status": "pending"
    },
    "tags": []
   },
   "source": [
    "<hr>"
   ]
  },
  {
   "cell_type": "markdown",
   "metadata": {
    "papermill": {
     "duration": null,
     "end_time": null,
     "exception": null,
     "start_time": null,
     "status": "pending"
    },
    "tags": []
   },
   "source": [
    "<p></p>\n",
    "<span style='float:right'><p style=\\\"text-align:right;\\\">This project is licensed under <a href=\"./LICENSE\">APACHE License 2.0</a>. | <a href=\\\"https://github.com/ecmwf-projects/copernicus-training\">View on GitHub</a></span>"
   ]
  }
 ],
 "metadata": {
  "kernelspec": {
   "display_name": "Python 3 (ipykernel)",
   "language": "python",
   "name": "python3"
  },
  "language_info": {
   "codemirror_mode": {
    "name": "ipython",
    "version": 3
   },
   "file_extension": ".py",
   "mimetype": "text/x-python",
   "name": "python",
   "nbconvert_exporter": "python",
   "pygments_lexer": "ipython3",
   "version": "3.9.7"
  }
 },
 "nbformat": 4,
 "nbformat_minor": 4
}
